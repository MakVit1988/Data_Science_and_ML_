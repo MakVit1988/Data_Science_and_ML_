{
 "cells": [
  {
   "cell_type": "code",
   "execution_count": 76,
   "outputs": [],
   "source": [],
   "metadata": {
    "collapsed": false,
    "pycharm": {
     "name": "#%%\n"
    }
   }
  },
  {
   "cell_type": "code",
   "execution_count": 77,
   "outputs": [],
   "source": [
    "import pandas as pd\n",
    "import numpy as np"
   ],
   "metadata": {
    "collapsed": false,
    "pycharm": {
     "name": "#%%\n"
    }
   }
  },
  {
   "cell_type": "code",
   "execution_count": 78,
   "outputs": [],
   "source": [
    "students_performance = pd.read_csv('https://stepik.org/media/attachments/course/4852/StudentsPerformance.csv')"
   ],
   "metadata": {
    "collapsed": false,
    "pycharm": {
     "name": "#%%\n"
    }
   }
  },
  {
   "cell_type": "code",
   "execution_count": 79,
   "outputs": [
    {
     "data": {
      "text/plain": "     gender race/ethnicity parental level of education         lunch  \\\n0    female        group B           bachelor's degree      standard   \n1    female        group C                some college      standard   \n2    female        group B             master's degree      standard   \n3      male        group A          associate's degree  free/reduced   \n4      male        group C                some college      standard   \n..      ...            ...                         ...           ...   \n995  female        group E             master's degree      standard   \n996    male        group C                 high school  free/reduced   \n997  female        group C                 high school  free/reduced   \n998  female        group D                some college      standard   \n999  female        group D                some college  free/reduced   \n\n    test preparation course  math score  reading score  writing score  \n0                      none          72             72             74  \n1                 completed          69             90             88  \n2                      none          90             95             93  \n3                      none          47             57             44  \n4                      none          76             78             75  \n..                      ...         ...            ...            ...  \n995               completed          88             99             95  \n996                    none          62             55             55  \n997               completed          59             71             65  \n998               completed          68             78             77  \n999                    none          77             86             86  \n\n[1000 rows x 8 columns]",
      "text/html": "<div>\n<style scoped>\n    .dataframe tbody tr th:only-of-type {\n        vertical-align: middle;\n    }\n\n    .dataframe tbody tr th {\n        vertical-align: top;\n    }\n\n    .dataframe thead th {\n        text-align: right;\n    }\n</style>\n<table border=\"1\" class=\"dataframe\">\n  <thead>\n    <tr style=\"text-align: right;\">\n      <th></th>\n      <th>gender</th>\n      <th>race/ethnicity</th>\n      <th>parental level of education</th>\n      <th>lunch</th>\n      <th>test preparation course</th>\n      <th>math score</th>\n      <th>reading score</th>\n      <th>writing score</th>\n    </tr>\n  </thead>\n  <tbody>\n    <tr>\n      <th>0</th>\n      <td>female</td>\n      <td>group B</td>\n      <td>bachelor's degree</td>\n      <td>standard</td>\n      <td>none</td>\n      <td>72</td>\n      <td>72</td>\n      <td>74</td>\n    </tr>\n    <tr>\n      <th>1</th>\n      <td>female</td>\n      <td>group C</td>\n      <td>some college</td>\n      <td>standard</td>\n      <td>completed</td>\n      <td>69</td>\n      <td>90</td>\n      <td>88</td>\n    </tr>\n    <tr>\n      <th>2</th>\n      <td>female</td>\n      <td>group B</td>\n      <td>master's degree</td>\n      <td>standard</td>\n      <td>none</td>\n      <td>90</td>\n      <td>95</td>\n      <td>93</td>\n    </tr>\n    <tr>\n      <th>3</th>\n      <td>male</td>\n      <td>group A</td>\n      <td>associate's degree</td>\n      <td>free/reduced</td>\n      <td>none</td>\n      <td>47</td>\n      <td>57</td>\n      <td>44</td>\n    </tr>\n    <tr>\n      <th>4</th>\n      <td>male</td>\n      <td>group C</td>\n      <td>some college</td>\n      <td>standard</td>\n      <td>none</td>\n      <td>76</td>\n      <td>78</td>\n      <td>75</td>\n    </tr>\n    <tr>\n      <th>...</th>\n      <td>...</td>\n      <td>...</td>\n      <td>...</td>\n      <td>...</td>\n      <td>...</td>\n      <td>...</td>\n      <td>...</td>\n      <td>...</td>\n    </tr>\n    <tr>\n      <th>995</th>\n      <td>female</td>\n      <td>group E</td>\n      <td>master's degree</td>\n      <td>standard</td>\n      <td>completed</td>\n      <td>88</td>\n      <td>99</td>\n      <td>95</td>\n    </tr>\n    <tr>\n      <th>996</th>\n      <td>male</td>\n      <td>group C</td>\n      <td>high school</td>\n      <td>free/reduced</td>\n      <td>none</td>\n      <td>62</td>\n      <td>55</td>\n      <td>55</td>\n    </tr>\n    <tr>\n      <th>997</th>\n      <td>female</td>\n      <td>group C</td>\n      <td>high school</td>\n      <td>free/reduced</td>\n      <td>completed</td>\n      <td>59</td>\n      <td>71</td>\n      <td>65</td>\n    </tr>\n    <tr>\n      <th>998</th>\n      <td>female</td>\n      <td>group D</td>\n      <td>some college</td>\n      <td>standard</td>\n      <td>completed</td>\n      <td>68</td>\n      <td>78</td>\n      <td>77</td>\n    </tr>\n    <tr>\n      <th>999</th>\n      <td>female</td>\n      <td>group D</td>\n      <td>some college</td>\n      <td>free/reduced</td>\n      <td>none</td>\n      <td>77</td>\n      <td>86</td>\n      <td>86</td>\n    </tr>\n  </tbody>\n</table>\n<p>1000 rows × 8 columns</p>\n</div>"
     },
     "execution_count": 79,
     "metadata": {},
     "output_type": "execute_result"
    }
   ],
   "source": [
    "students_performance"
   ],
   "metadata": {
    "collapsed": false,
    "pycharm": {
     "name": "#%%\n"
    }
   }
  },
  {
   "cell_type": "code",
   "execution_count": 80,
   "outputs": [
    {
     "data": {
      "text/plain": "       math score  reading score  writing score\ncount  1000.00000    1000.000000    1000.000000\nmean     66.08900      69.169000      68.054000\nstd      15.16308      14.600192      15.195657\nmin       0.00000      17.000000      10.000000\n25%      57.00000      59.000000      57.750000\n50%      66.00000      70.000000      69.000000\n75%      77.00000      79.000000      79.000000\nmax     100.00000     100.000000     100.000000",
      "text/html": "<div>\n<style scoped>\n    .dataframe tbody tr th:only-of-type {\n        vertical-align: middle;\n    }\n\n    .dataframe tbody tr th {\n        vertical-align: top;\n    }\n\n    .dataframe thead th {\n        text-align: right;\n    }\n</style>\n<table border=\"1\" class=\"dataframe\">\n  <thead>\n    <tr style=\"text-align: right;\">\n      <th></th>\n      <th>math score</th>\n      <th>reading score</th>\n      <th>writing score</th>\n    </tr>\n  </thead>\n  <tbody>\n    <tr>\n      <th>count</th>\n      <td>1000.00000</td>\n      <td>1000.000000</td>\n      <td>1000.000000</td>\n    </tr>\n    <tr>\n      <th>mean</th>\n      <td>66.08900</td>\n      <td>69.169000</td>\n      <td>68.054000</td>\n    </tr>\n    <tr>\n      <th>std</th>\n      <td>15.16308</td>\n      <td>14.600192</td>\n      <td>15.195657</td>\n    </tr>\n    <tr>\n      <th>min</th>\n      <td>0.00000</td>\n      <td>17.000000</td>\n      <td>10.000000</td>\n    </tr>\n    <tr>\n      <th>25%</th>\n      <td>57.00000</td>\n      <td>59.000000</td>\n      <td>57.750000</td>\n    </tr>\n    <tr>\n      <th>50%</th>\n      <td>66.00000</td>\n      <td>70.000000</td>\n      <td>69.000000</td>\n    </tr>\n    <tr>\n      <th>75%</th>\n      <td>77.00000</td>\n      <td>79.000000</td>\n      <td>79.000000</td>\n    </tr>\n    <tr>\n      <th>max</th>\n      <td>100.00000</td>\n      <td>100.000000</td>\n      <td>100.000000</td>\n    </tr>\n  </tbody>\n</table>\n</div>"
     },
     "execution_count": 80,
     "metadata": {},
     "output_type": "execute_result"
    }
   ],
   "source": [
    "students_performance.describe()"
   ],
   "metadata": {
    "collapsed": false,
    "pycharm": {
     "name": "#%%\n"
    }
   }
  },
  {
   "cell_type": "code",
   "execution_count": 81,
   "outputs": [
    {
     "data": {
      "text/plain": "gender                         object\nrace/ethnicity                 object\nparental level of education    object\nlunch                          object\ntest preparation course        object\nmath score                      int64\nreading score                   int64\nwriting score                   int64\ndtype: object"
     },
     "execution_count": 81,
     "metadata": {},
     "output_type": "execute_result"
    }
   ],
   "source": [
    "students_performance.dtypes"
   ],
   "metadata": {
    "collapsed": false,
    "pycharm": {
     "name": "#%%\n"
    }
   }
  },
  {
   "cell_type": "code",
   "execution_count": 82,
   "outputs": [
    {
     "data": {
      "text/plain": "(1000, 8)"
     },
     "execution_count": 82,
     "metadata": {},
     "output_type": "execute_result"
    }
   ],
   "source": [
    "students_performance.shape"
   ],
   "metadata": {
    "collapsed": false,
    "pycharm": {
     "name": "#%%\n"
    }
   }
  },
  {
   "cell_type": "code",
   "execution_count": 83,
   "outputs": [
    {
     "data": {
      "text/plain": "8000"
     },
     "execution_count": 83,
     "metadata": {},
     "output_type": "execute_result"
    }
   ],
   "source": [
    "students_performance.size"
   ],
   "metadata": {
    "collapsed": false,
    "pycharm": {
     "name": "#%%\n"
    }
   }
  },
  {
   "cell_type": "code",
   "execution_count": 84,
   "outputs": [
    {
     "data": {
      "text/plain": "RangeIndex(start=0, stop=1000, step=1)"
     },
     "execution_count": 84,
     "metadata": {},
     "output_type": "execute_result"
    }
   ],
   "source": [
    "students_performance.index"
   ],
   "metadata": {
    "collapsed": false,
    "pycharm": {
     "name": "#%%\n"
    }
   }
  },
  {
   "cell_type": "code",
   "execution_count": 85,
   "outputs": [],
   "source": [
    "df = pd.read_csv('https://stepik.org/media/attachments/course/4852/titanic.csv')"
   ],
   "metadata": {
    "collapsed": false,
    "pycharm": {
     "name": "#%%\n"
    }
   }
  },
  {
   "cell_type": "code",
   "execution_count": 86,
   "outputs": [
    {
     "data": {
      "text/plain": "     PassengerId  Survived  Pclass  \\\n0              1         0       3   \n1              2         1       1   \n2              3         1       3   \n3              4         1       1   \n4              5         0       3   \n..           ...       ...     ...   \n886          887         0       2   \n887          888         1       1   \n888          889         0       3   \n889          890         1       1   \n890          891         0       3   \n\n                                                  Name     Sex   Age  SibSp  \\\n0                              Braund, Mr. Owen Harris    male  22.0      1   \n1    Cumings, Mrs. John Bradley (Florence Briggs Th...  female  38.0      1   \n2                               Heikkinen, Miss. Laina  female  26.0      0   \n3         Futrelle, Mrs. Jacques Heath (Lily May Peel)  female  35.0      1   \n4                             Allen, Mr. William Henry    male  35.0      0   \n..                                                 ...     ...   ...    ...   \n886                              Montvila, Rev. Juozas    male  27.0      0   \n887                       Graham, Miss. Margaret Edith  female  19.0      0   \n888           Johnston, Miss. Catherine Helen \"Carrie\"  female   NaN      1   \n889                              Behr, Mr. Karl Howell    male  26.0      0   \n890                                Dooley, Mr. Patrick    male  32.0      0   \n\n     Parch            Ticket     Fare Cabin Embarked  \n0        0         A/5 21171   7.2500   NaN        S  \n1        0          PC 17599  71.2833   C85        C  \n2        0  STON/O2. 3101282   7.9250   NaN        S  \n3        0            113803  53.1000  C123        S  \n4        0            373450   8.0500   NaN        S  \n..     ...               ...      ...   ...      ...  \n886      0            211536  13.0000   NaN        S  \n887      0            112053  30.0000   B42        S  \n888      2        W./C. 6607  23.4500   NaN        S  \n889      0            111369  30.0000  C148        C  \n890      0            370376   7.7500   NaN        Q  \n\n[891 rows x 12 columns]",
      "text/html": "<div>\n<style scoped>\n    .dataframe tbody tr th:only-of-type {\n        vertical-align: middle;\n    }\n\n    .dataframe tbody tr th {\n        vertical-align: top;\n    }\n\n    .dataframe thead th {\n        text-align: right;\n    }\n</style>\n<table border=\"1\" class=\"dataframe\">\n  <thead>\n    <tr style=\"text-align: right;\">\n      <th></th>\n      <th>PassengerId</th>\n      <th>Survived</th>\n      <th>Pclass</th>\n      <th>Name</th>\n      <th>Sex</th>\n      <th>Age</th>\n      <th>SibSp</th>\n      <th>Parch</th>\n      <th>Ticket</th>\n      <th>Fare</th>\n      <th>Cabin</th>\n      <th>Embarked</th>\n    </tr>\n  </thead>\n  <tbody>\n    <tr>\n      <th>0</th>\n      <td>1</td>\n      <td>0</td>\n      <td>3</td>\n      <td>Braund, Mr. Owen Harris</td>\n      <td>male</td>\n      <td>22.0</td>\n      <td>1</td>\n      <td>0</td>\n      <td>A/5 21171</td>\n      <td>7.2500</td>\n      <td>NaN</td>\n      <td>S</td>\n    </tr>\n    <tr>\n      <th>1</th>\n      <td>2</td>\n      <td>1</td>\n      <td>1</td>\n      <td>Cumings, Mrs. John Bradley (Florence Briggs Th...</td>\n      <td>female</td>\n      <td>38.0</td>\n      <td>1</td>\n      <td>0</td>\n      <td>PC 17599</td>\n      <td>71.2833</td>\n      <td>C85</td>\n      <td>C</td>\n    </tr>\n    <tr>\n      <th>2</th>\n      <td>3</td>\n      <td>1</td>\n      <td>3</td>\n      <td>Heikkinen, Miss. Laina</td>\n      <td>female</td>\n      <td>26.0</td>\n      <td>0</td>\n      <td>0</td>\n      <td>STON/O2. 3101282</td>\n      <td>7.9250</td>\n      <td>NaN</td>\n      <td>S</td>\n    </tr>\n    <tr>\n      <th>3</th>\n      <td>4</td>\n      <td>1</td>\n      <td>1</td>\n      <td>Futrelle, Mrs. Jacques Heath (Lily May Peel)</td>\n      <td>female</td>\n      <td>35.0</td>\n      <td>1</td>\n      <td>0</td>\n      <td>113803</td>\n      <td>53.1000</td>\n      <td>C123</td>\n      <td>S</td>\n    </tr>\n    <tr>\n      <th>4</th>\n      <td>5</td>\n      <td>0</td>\n      <td>3</td>\n      <td>Allen, Mr. William Henry</td>\n      <td>male</td>\n      <td>35.0</td>\n      <td>0</td>\n      <td>0</td>\n      <td>373450</td>\n      <td>8.0500</td>\n      <td>NaN</td>\n      <td>S</td>\n    </tr>\n    <tr>\n      <th>...</th>\n      <td>...</td>\n      <td>...</td>\n      <td>...</td>\n      <td>...</td>\n      <td>...</td>\n      <td>...</td>\n      <td>...</td>\n      <td>...</td>\n      <td>...</td>\n      <td>...</td>\n      <td>...</td>\n      <td>...</td>\n    </tr>\n    <tr>\n      <th>886</th>\n      <td>887</td>\n      <td>0</td>\n      <td>2</td>\n      <td>Montvila, Rev. Juozas</td>\n      <td>male</td>\n      <td>27.0</td>\n      <td>0</td>\n      <td>0</td>\n      <td>211536</td>\n      <td>13.0000</td>\n      <td>NaN</td>\n      <td>S</td>\n    </tr>\n    <tr>\n      <th>887</th>\n      <td>888</td>\n      <td>1</td>\n      <td>1</td>\n      <td>Graham, Miss. Margaret Edith</td>\n      <td>female</td>\n      <td>19.0</td>\n      <td>0</td>\n      <td>0</td>\n      <td>112053</td>\n      <td>30.0000</td>\n      <td>B42</td>\n      <td>S</td>\n    </tr>\n    <tr>\n      <th>888</th>\n      <td>889</td>\n      <td>0</td>\n      <td>3</td>\n      <td>Johnston, Miss. Catherine Helen \"Carrie\"</td>\n      <td>female</td>\n      <td>NaN</td>\n      <td>1</td>\n      <td>2</td>\n      <td>W./C. 6607</td>\n      <td>23.4500</td>\n      <td>NaN</td>\n      <td>S</td>\n    </tr>\n    <tr>\n      <th>889</th>\n      <td>890</td>\n      <td>1</td>\n      <td>1</td>\n      <td>Behr, Mr. Karl Howell</td>\n      <td>male</td>\n      <td>26.0</td>\n      <td>0</td>\n      <td>0</td>\n      <td>111369</td>\n      <td>30.0000</td>\n      <td>C148</td>\n      <td>C</td>\n    </tr>\n    <tr>\n      <th>890</th>\n      <td>891</td>\n      <td>0</td>\n      <td>3</td>\n      <td>Dooley, Mr. Patrick</td>\n      <td>male</td>\n      <td>32.0</td>\n      <td>0</td>\n      <td>0</td>\n      <td>370376</td>\n      <td>7.7500</td>\n      <td>NaN</td>\n      <td>Q</td>\n    </tr>\n  </tbody>\n</table>\n<p>891 rows × 12 columns</p>\n</div>"
     },
     "execution_count": 86,
     "metadata": {},
     "output_type": "execute_result"
    }
   ],
   "source": [
    "df"
   ],
   "metadata": {
    "collapsed": false,
    "pycharm": {
     "name": "#%%\n"
    }
   }
  },
  {
   "cell_type": "code",
   "execution_count": 87,
   "outputs": [
    {
     "data": {
      "text/plain": "PassengerId      int64\nSurvived         int64\nPclass           int64\nName            object\nSex             object\nAge            float64\nSibSp            int64\nParch            int64\nTicket          object\nFare           float64\nCabin           object\nEmbarked        object\ndtype: object"
     },
     "execution_count": 87,
     "metadata": {},
     "output_type": "execute_result"
    }
   ],
   "source": [
    "df.dtypes"
   ],
   "metadata": {
    "collapsed": false,
    "pycharm": {
     "name": "#%%\n"
    }
   }
  },
  {
   "cell_type": "code",
   "execution_count": 88,
   "outputs": [
    {
     "data": {
      "text/plain": "     gender race/ethnicity parental level of education         lunch  \\\n0    female        group B           bachelor's degree      standard   \n1    female        group C                some college      standard   \n2    female        group B             master's degree      standard   \n5    female        group B          associate's degree      standard   \n6    female        group B                some college      standard   \n..      ...            ...                         ...           ...   \n993  female        group D           bachelor's degree  free/reduced   \n995  female        group E             master's degree      standard   \n997  female        group C                 high school  free/reduced   \n998  female        group D                some college      standard   \n999  female        group D                some college  free/reduced   \n\n    test preparation course  math score  reading score  writing score  \n0                      none          72             72             74  \n1                 completed          69             90             88  \n2                      none          90             95             93  \n5                      none          71             83             78  \n6                 completed          88             95             92  \n..                      ...         ...            ...            ...  \n993                    none          62             72             74  \n995               completed          88             99             95  \n997               completed          59             71             65  \n998               completed          68             78             77  \n999                    none          77             86             86  \n\n[518 rows x 8 columns]",
      "text/html": "<div>\n<style scoped>\n    .dataframe tbody tr th:only-of-type {\n        vertical-align: middle;\n    }\n\n    .dataframe tbody tr th {\n        vertical-align: top;\n    }\n\n    .dataframe thead th {\n        text-align: right;\n    }\n</style>\n<table border=\"1\" class=\"dataframe\">\n  <thead>\n    <tr style=\"text-align: right;\">\n      <th></th>\n      <th>gender</th>\n      <th>race/ethnicity</th>\n      <th>parental level of education</th>\n      <th>lunch</th>\n      <th>test preparation course</th>\n      <th>math score</th>\n      <th>reading score</th>\n      <th>writing score</th>\n    </tr>\n  </thead>\n  <tbody>\n    <tr>\n      <th>0</th>\n      <td>female</td>\n      <td>group B</td>\n      <td>bachelor's degree</td>\n      <td>standard</td>\n      <td>none</td>\n      <td>72</td>\n      <td>72</td>\n      <td>74</td>\n    </tr>\n    <tr>\n      <th>1</th>\n      <td>female</td>\n      <td>group C</td>\n      <td>some college</td>\n      <td>standard</td>\n      <td>completed</td>\n      <td>69</td>\n      <td>90</td>\n      <td>88</td>\n    </tr>\n    <tr>\n      <th>2</th>\n      <td>female</td>\n      <td>group B</td>\n      <td>master's degree</td>\n      <td>standard</td>\n      <td>none</td>\n      <td>90</td>\n      <td>95</td>\n      <td>93</td>\n    </tr>\n    <tr>\n      <th>5</th>\n      <td>female</td>\n      <td>group B</td>\n      <td>associate's degree</td>\n      <td>standard</td>\n      <td>none</td>\n      <td>71</td>\n      <td>83</td>\n      <td>78</td>\n    </tr>\n    <tr>\n      <th>6</th>\n      <td>female</td>\n      <td>group B</td>\n      <td>some college</td>\n      <td>standard</td>\n      <td>completed</td>\n      <td>88</td>\n      <td>95</td>\n      <td>92</td>\n    </tr>\n    <tr>\n      <th>...</th>\n      <td>...</td>\n      <td>...</td>\n      <td>...</td>\n      <td>...</td>\n      <td>...</td>\n      <td>...</td>\n      <td>...</td>\n      <td>...</td>\n    </tr>\n    <tr>\n      <th>993</th>\n      <td>female</td>\n      <td>group D</td>\n      <td>bachelor's degree</td>\n      <td>free/reduced</td>\n      <td>none</td>\n      <td>62</td>\n      <td>72</td>\n      <td>74</td>\n    </tr>\n    <tr>\n      <th>995</th>\n      <td>female</td>\n      <td>group E</td>\n      <td>master's degree</td>\n      <td>standard</td>\n      <td>completed</td>\n      <td>88</td>\n      <td>99</td>\n      <td>95</td>\n    </tr>\n    <tr>\n      <th>997</th>\n      <td>female</td>\n      <td>group C</td>\n      <td>high school</td>\n      <td>free/reduced</td>\n      <td>completed</td>\n      <td>59</td>\n      <td>71</td>\n      <td>65</td>\n    </tr>\n    <tr>\n      <th>998</th>\n      <td>female</td>\n      <td>group D</td>\n      <td>some college</td>\n      <td>standard</td>\n      <td>completed</td>\n      <td>68</td>\n      <td>78</td>\n      <td>77</td>\n    </tr>\n    <tr>\n      <th>999</th>\n      <td>female</td>\n      <td>group D</td>\n      <td>some college</td>\n      <td>free/reduced</td>\n      <td>none</td>\n      <td>77</td>\n      <td>86</td>\n      <td>86</td>\n    </tr>\n  </tbody>\n</table>\n<p>518 rows × 8 columns</p>\n</div>"
     },
     "execution_count": 88,
     "metadata": {},
     "output_type": "execute_result"
    }
   ],
   "source": [
    "# # Урок 1.6 Группировка и агрегация, ничего, скоро привыкнем\n",
    "students_performance.loc[students_performance.gender =='female']"
   ],
   "metadata": {
    "collapsed": false,
    "pycharm": {
     "name": "#%%\n"
    }
   }
  },
  {
   "cell_type": "code",
   "execution_count": 89,
   "outputs": [
    {
     "data": {
      "text/plain": "        math score  reading score  writing score\ngender                                          \nfemale   63.633205      72.608108      72.467181\nmale     68.728216      65.473029      63.311203",
      "text/html": "<div>\n<style scoped>\n    .dataframe tbody tr th:only-of-type {\n        vertical-align: middle;\n    }\n\n    .dataframe tbody tr th {\n        vertical-align: top;\n    }\n\n    .dataframe thead th {\n        text-align: right;\n    }\n</style>\n<table border=\"1\" class=\"dataframe\">\n  <thead>\n    <tr style=\"text-align: right;\">\n      <th></th>\n      <th>math score</th>\n      <th>reading score</th>\n      <th>writing score</th>\n    </tr>\n    <tr>\n      <th>gender</th>\n      <th></th>\n      <th></th>\n      <th></th>\n    </tr>\n  </thead>\n  <tbody>\n    <tr>\n      <th>female</th>\n      <td>63.633205</td>\n      <td>72.608108</td>\n      <td>72.467181</td>\n    </tr>\n    <tr>\n      <th>male</th>\n      <td>68.728216</td>\n      <td>65.473029</td>\n      <td>63.311203</td>\n    </tr>\n  </tbody>\n</table>\n</div>"
     },
     "execution_count": 89,
     "metadata": {},
     "output_type": "execute_result"
    }
   ],
   "source": [
    "students_performance.groupby('gender').mean()"
   ],
   "metadata": {
    "collapsed": false,
    "pycharm": {
     "name": "#%%\n"
    }
   }
  },
  {
   "cell_type": "code",
   "execution_count": 90,
   "outputs": [
    {
     "data": {
      "text/plain": "        math score  reading score\ngender                           \nfemale   63.633205      72.608108\nmale     68.728216      65.473029",
      "text/html": "<div>\n<style scoped>\n    .dataframe tbody tr th:only-of-type {\n        vertical-align: middle;\n    }\n\n    .dataframe tbody tr th {\n        vertical-align: top;\n    }\n\n    .dataframe thead th {\n        text-align: right;\n    }\n</style>\n<table border=\"1\" class=\"dataframe\">\n  <thead>\n    <tr style=\"text-align: right;\">\n      <th></th>\n      <th>math score</th>\n      <th>reading score</th>\n    </tr>\n    <tr>\n      <th>gender</th>\n      <th></th>\n      <th></th>\n    </tr>\n  </thead>\n  <tbody>\n    <tr>\n      <th>female</th>\n      <td>63.633205</td>\n      <td>72.608108</td>\n    </tr>\n    <tr>\n      <th>male</th>\n      <td>68.728216</td>\n      <td>65.473029</td>\n    </tr>\n  </tbody>\n</table>\n</div>"
     },
     "execution_count": 90,
     "metadata": {},
     "output_type": "execute_result"
    }
   ],
   "source": [
    "students_performance.groupby('gender').aggregate({'math score' : 'mean', 'reading score' : 'mean'})"
   ],
   "metadata": {
    "collapsed": false,
    "pycharm": {
     "name": "#%%\n"
    }
   }
  },
  {
   "cell_type": "code",
   "execution_count": 91,
   "outputs": [
    {
     "data": {
      "text/plain": "   gender  mean math score  mean reading score\n0  female        63.633205           72.608108\n1    male        68.728216           65.473029",
      "text/html": "<div>\n<style scoped>\n    .dataframe tbody tr th:only-of-type {\n        vertical-align: middle;\n    }\n\n    .dataframe tbody tr th {\n        vertical-align: top;\n    }\n\n    .dataframe thead th {\n        text-align: right;\n    }\n</style>\n<table border=\"1\" class=\"dataframe\">\n  <thead>\n    <tr style=\"text-align: right;\">\n      <th></th>\n      <th>gender</th>\n      <th>mean math score</th>\n      <th>mean reading score</th>\n    </tr>\n  </thead>\n  <tbody>\n    <tr>\n      <th>0</th>\n      <td>female</td>\n      <td>63.633205</td>\n      <td>72.608108</td>\n    </tr>\n    <tr>\n      <th>1</th>\n      <td>male</td>\n      <td>68.728216</td>\n      <td>65.473029</td>\n    </tr>\n  </tbody>\n</table>\n</div>"
     },
     "execution_count": 91,
     "metadata": {},
     "output_type": "execute_result"
    }
   ],
   "source": [
    "students_performance.groupby('gender', as_index=False)\\\n",
    "    .aggregate({'math score' : 'mean', 'reading score' : 'mean'})\\\n",
    "    .rename(columns={'math score' : 'mean math score', 'reading score' : 'mean reading score'})"
   ],
   "metadata": {
    "collapsed": false,
    "pycharm": {
     "name": "#%%\n"
    }
   }
  },
  {
   "cell_type": "code",
   "execution_count": 92,
   "outputs": [
    {
     "data": {
      "text/plain": "   gender race/ethnicity  mean math score  mean reading score\n0  female        group A        58.527778           69.000000\n1  female        group B        61.403846           71.076923\n2  female        group C        62.033333           71.944444\n3  female        group D        65.248062           74.046512\n4  female        group E        70.811594           75.840580\n5    male        group A        63.735849           61.735849\n6    male        group B        65.930233           62.848837\n7    male        group C        67.611511           65.424460\n8    male        group D        69.413534           66.135338\n9    male        group E        76.746479           70.295775",
      "text/html": "<div>\n<style scoped>\n    .dataframe tbody tr th:only-of-type {\n        vertical-align: middle;\n    }\n\n    .dataframe tbody tr th {\n        vertical-align: top;\n    }\n\n    .dataframe thead th {\n        text-align: right;\n    }\n</style>\n<table border=\"1\" class=\"dataframe\">\n  <thead>\n    <tr style=\"text-align: right;\">\n      <th></th>\n      <th>gender</th>\n      <th>race/ethnicity</th>\n      <th>mean math score</th>\n      <th>mean reading score</th>\n    </tr>\n  </thead>\n  <tbody>\n    <tr>\n      <th>0</th>\n      <td>female</td>\n      <td>group A</td>\n      <td>58.527778</td>\n      <td>69.000000</td>\n    </tr>\n    <tr>\n      <th>1</th>\n      <td>female</td>\n      <td>group B</td>\n      <td>61.403846</td>\n      <td>71.076923</td>\n    </tr>\n    <tr>\n      <th>2</th>\n      <td>female</td>\n      <td>group C</td>\n      <td>62.033333</td>\n      <td>71.944444</td>\n    </tr>\n    <tr>\n      <th>3</th>\n      <td>female</td>\n      <td>group D</td>\n      <td>65.248062</td>\n      <td>74.046512</td>\n    </tr>\n    <tr>\n      <th>4</th>\n      <td>female</td>\n      <td>group E</td>\n      <td>70.811594</td>\n      <td>75.840580</td>\n    </tr>\n    <tr>\n      <th>5</th>\n      <td>male</td>\n      <td>group A</td>\n      <td>63.735849</td>\n      <td>61.735849</td>\n    </tr>\n    <tr>\n      <th>6</th>\n      <td>male</td>\n      <td>group B</td>\n      <td>65.930233</td>\n      <td>62.848837</td>\n    </tr>\n    <tr>\n      <th>7</th>\n      <td>male</td>\n      <td>group C</td>\n      <td>67.611511</td>\n      <td>65.424460</td>\n    </tr>\n    <tr>\n      <th>8</th>\n      <td>male</td>\n      <td>group D</td>\n      <td>69.413534</td>\n      <td>66.135338</td>\n    </tr>\n    <tr>\n      <th>9</th>\n      <td>male</td>\n      <td>group E</td>\n      <td>76.746479</td>\n      <td>70.295775</td>\n    </tr>\n  </tbody>\n</table>\n</div>"
     },
     "execution_count": 92,
     "metadata": {},
     "output_type": "execute_result"
    }
   ],
   "source": [
    "students_performance.groupby(['gender', 'race/ethnicity'], as_index=False)\\\n",
    "    .aggregate({'math score' : 'mean', 'reading score' : 'mean'})\\\n",
    "    .rename(columns={'math score' : 'mean math score', 'reading score' : 'mean reading score'})"
   ],
   "metadata": {
    "collapsed": false,
    "pycharm": {
     "name": "#%%\n"
    }
   }
  },
  {
   "cell_type": "code",
   "execution_count": 93,
   "outputs": [
    {
     "data": {
      "text/plain": "                       mean math score  mean reading score\ngender race/ethnicity                                     \nfemale group A               58.527778           69.000000\n       group B               61.403846           71.076923\n       group C               62.033333           71.944444\n       group D               65.248062           74.046512\n       group E               70.811594           75.840580\nmale   group A               63.735849           61.735849\n       group B               65.930233           62.848837\n       group C               67.611511           65.424460\n       group D               69.413534           66.135338\n       group E               76.746479           70.295775",
      "text/html": "<div>\n<style scoped>\n    .dataframe tbody tr th:only-of-type {\n        vertical-align: middle;\n    }\n\n    .dataframe tbody tr th {\n        vertical-align: top;\n    }\n\n    .dataframe thead th {\n        text-align: right;\n    }\n</style>\n<table border=\"1\" class=\"dataframe\">\n  <thead>\n    <tr style=\"text-align: right;\">\n      <th></th>\n      <th></th>\n      <th>mean math score</th>\n      <th>mean reading score</th>\n    </tr>\n    <tr>\n      <th>gender</th>\n      <th>race/ethnicity</th>\n      <th></th>\n      <th></th>\n    </tr>\n  </thead>\n  <tbody>\n    <tr>\n      <th rowspan=\"5\" valign=\"top\">female</th>\n      <th>group A</th>\n      <td>58.527778</td>\n      <td>69.000000</td>\n    </tr>\n    <tr>\n      <th>group B</th>\n      <td>61.403846</td>\n      <td>71.076923</td>\n    </tr>\n    <tr>\n      <th>group C</th>\n      <td>62.033333</td>\n      <td>71.944444</td>\n    </tr>\n    <tr>\n      <th>group D</th>\n      <td>65.248062</td>\n      <td>74.046512</td>\n    </tr>\n    <tr>\n      <th>group E</th>\n      <td>70.811594</td>\n      <td>75.840580</td>\n    </tr>\n    <tr>\n      <th rowspan=\"5\" valign=\"top\">male</th>\n      <th>group A</th>\n      <td>63.735849</td>\n      <td>61.735849</td>\n    </tr>\n    <tr>\n      <th>group B</th>\n      <td>65.930233</td>\n      <td>62.848837</td>\n    </tr>\n    <tr>\n      <th>group C</th>\n      <td>67.611511</td>\n      <td>65.424460</td>\n    </tr>\n    <tr>\n      <th>group D</th>\n      <td>69.413534</td>\n      <td>66.135338</td>\n    </tr>\n    <tr>\n      <th>group E</th>\n      <td>76.746479</td>\n      <td>70.295775</td>\n    </tr>\n  </tbody>\n</table>\n</div>"
     },
     "execution_count": 93,
     "metadata": {},
     "output_type": "execute_result"
    }
   ],
   "source": [
    "students_performance.groupby(['gender', 'race/ethnicity'])\\\n",
    "    .aggregate({'math score' : 'mean', 'reading score' : 'mean'})\\\n",
    "    .rename(columns={'math score' : 'mean math score', 'reading score' : 'mean reading score'})"
   ],
   "metadata": {
    "collapsed": false,
    "pycharm": {
     "name": "#%%\n"
    }
   }
  },
  {
   "cell_type": "code",
   "execution_count": 94,
   "outputs": [],
   "source": [
    "mean_score = students_performance.groupby(['gender', 'race/ethnicity'])\\\n",
    "    .aggregate({'math score' : 'mean', 'reading score' : 'mean'})\\\n",
    "    .rename(columns={'math score' : 'mean math score', 'reading score' : 'mean reading score'})"
   ],
   "metadata": {
    "collapsed": false,
    "pycharm": {
     "name": "#%%\n"
    }
   }
  },
  {
   "cell_type": "code",
   "execution_count": 95,
   "outputs": [
    {
     "data": {
      "text/plain": "MultiIndex([('female', 'group A'),\n            ('female', 'group B'),\n            ('female', 'group C'),\n            ('female', 'group D'),\n            ('female', 'group E'),\n            (  'male', 'group A'),\n            (  'male', 'group B'),\n            (  'male', 'group C'),\n            (  'male', 'group D'),\n            (  'male', 'group E')],\n           names=['gender', 'race/ethnicity'])"
     },
     "execution_count": 95,
     "metadata": {},
     "output_type": "execute_result"
    }
   ],
   "source": [
    "mean_score.index"
   ],
   "metadata": {
    "collapsed": false,
    "pycharm": {
     "name": "#%%\n"
    }
   }
  },
  {
   "cell_type": "code",
   "execution_count": 96,
   "outputs": [
    {
     "data": {
      "text/plain": "mean math score       58.527778\nmean reading score    69.000000\nName: (female, group A), dtype: float64"
     },
     "execution_count": 96,
     "metadata": {},
     "output_type": "execute_result"
    }
   ],
   "source": [
    "mean_score.loc[('female', 'group A')]"
   ],
   "metadata": {
    "collapsed": false,
    "pycharm": {
     "name": "#%%\n"
    }
   }
  },
  {
   "cell_type": "code",
   "execution_count": 97,
   "outputs": [
    {
     "data": {
      "text/plain": "                       mean math score  mean reading score\ngender race/ethnicity                                     \nfemale group A               58.527778           69.000000\n       group B               61.403846           71.076923",
      "text/html": "<div>\n<style scoped>\n    .dataframe tbody tr th:only-of-type {\n        vertical-align: middle;\n    }\n\n    .dataframe tbody tr th {\n        vertical-align: top;\n    }\n\n    .dataframe thead th {\n        text-align: right;\n    }\n</style>\n<table border=\"1\" class=\"dataframe\">\n  <thead>\n    <tr style=\"text-align: right;\">\n      <th></th>\n      <th></th>\n      <th>mean math score</th>\n      <th>mean reading score</th>\n    </tr>\n    <tr>\n      <th>gender</th>\n      <th>race/ethnicity</th>\n      <th></th>\n      <th></th>\n    </tr>\n  </thead>\n  <tbody>\n    <tr>\n      <th rowspan=\"2\" valign=\"top\">female</th>\n      <th>group A</th>\n      <td>58.527778</td>\n      <td>69.000000</td>\n    </tr>\n    <tr>\n      <th>group B</th>\n      <td>61.403846</td>\n      <td>71.076923</td>\n    </tr>\n  </tbody>\n</table>\n</div>"
     },
     "execution_count": 97,
     "metadata": {},
     "output_type": "execute_result"
    }
   ],
   "source": [
    "mean_score.loc[[('female', 'group A'),('female', 'group B')]]"
   ],
   "metadata": {
    "collapsed": false,
    "pycharm": {
     "name": "#%%\n"
    }
   }
  },
  {
   "cell_type": "code",
   "execution_count": 98,
   "outputs": [
    {
     "data": {
      "text/plain": "     gender race/ethnicity parental level of education         lunch  \\\n59   female        group C            some high school  free/reduced   \n980  female        group B                 high school  free/reduced   \n17   female        group B            some high school  free/reduced   \n787  female        group B                some college      standard   \n145  female        group C                some college  free/reduced   \n..      ...            ...                         ...           ...   \n306    male        group E                some college      standard   \n149    male        group E          associate's degree  free/reduced   \n623    male        group A                some college      standard   \n625    male        group D                some college      standard   \n916    male        group E           bachelor's degree      standard   \n\n    test preparation course  math score  reading score  writing score  \n59                     none           0             17             10  \n980                    none           8             24             23  \n17                     none          18             32             28  \n787                    none          19             38             32  \n145                    none          22             39             33  \n..                      ...         ...            ...            ...  \n306               completed          99             87             81  \n149               completed         100            100             93  \n623               completed         100             96             86  \n625               completed         100             97             99  \n916               completed         100            100            100  \n\n[1000 rows x 8 columns]",
      "text/html": "<div>\n<style scoped>\n    .dataframe tbody tr th:only-of-type {\n        vertical-align: middle;\n    }\n\n    .dataframe tbody tr th {\n        vertical-align: top;\n    }\n\n    .dataframe thead th {\n        text-align: right;\n    }\n</style>\n<table border=\"1\" class=\"dataframe\">\n  <thead>\n    <tr style=\"text-align: right;\">\n      <th></th>\n      <th>gender</th>\n      <th>race/ethnicity</th>\n      <th>parental level of education</th>\n      <th>lunch</th>\n      <th>test preparation course</th>\n      <th>math score</th>\n      <th>reading score</th>\n      <th>writing score</th>\n    </tr>\n  </thead>\n  <tbody>\n    <tr>\n      <th>59</th>\n      <td>female</td>\n      <td>group C</td>\n      <td>some high school</td>\n      <td>free/reduced</td>\n      <td>none</td>\n      <td>0</td>\n      <td>17</td>\n      <td>10</td>\n    </tr>\n    <tr>\n      <th>980</th>\n      <td>female</td>\n      <td>group B</td>\n      <td>high school</td>\n      <td>free/reduced</td>\n      <td>none</td>\n      <td>8</td>\n      <td>24</td>\n      <td>23</td>\n    </tr>\n    <tr>\n      <th>17</th>\n      <td>female</td>\n      <td>group B</td>\n      <td>some high school</td>\n      <td>free/reduced</td>\n      <td>none</td>\n      <td>18</td>\n      <td>32</td>\n      <td>28</td>\n    </tr>\n    <tr>\n      <th>787</th>\n      <td>female</td>\n      <td>group B</td>\n      <td>some college</td>\n      <td>standard</td>\n      <td>none</td>\n      <td>19</td>\n      <td>38</td>\n      <td>32</td>\n    </tr>\n    <tr>\n      <th>145</th>\n      <td>female</td>\n      <td>group C</td>\n      <td>some college</td>\n      <td>free/reduced</td>\n      <td>none</td>\n      <td>22</td>\n      <td>39</td>\n      <td>33</td>\n    </tr>\n    <tr>\n      <th>...</th>\n      <td>...</td>\n      <td>...</td>\n      <td>...</td>\n      <td>...</td>\n      <td>...</td>\n      <td>...</td>\n      <td>...</td>\n      <td>...</td>\n    </tr>\n    <tr>\n      <th>306</th>\n      <td>male</td>\n      <td>group E</td>\n      <td>some college</td>\n      <td>standard</td>\n      <td>completed</td>\n      <td>99</td>\n      <td>87</td>\n      <td>81</td>\n    </tr>\n    <tr>\n      <th>149</th>\n      <td>male</td>\n      <td>group E</td>\n      <td>associate's degree</td>\n      <td>free/reduced</td>\n      <td>completed</td>\n      <td>100</td>\n      <td>100</td>\n      <td>93</td>\n    </tr>\n    <tr>\n      <th>623</th>\n      <td>male</td>\n      <td>group A</td>\n      <td>some college</td>\n      <td>standard</td>\n      <td>completed</td>\n      <td>100</td>\n      <td>96</td>\n      <td>86</td>\n    </tr>\n    <tr>\n      <th>625</th>\n      <td>male</td>\n      <td>group D</td>\n      <td>some college</td>\n      <td>standard</td>\n      <td>completed</td>\n      <td>100</td>\n      <td>97</td>\n      <td>99</td>\n    </tr>\n    <tr>\n      <th>916</th>\n      <td>male</td>\n      <td>group E</td>\n      <td>bachelor's degree</td>\n      <td>standard</td>\n      <td>completed</td>\n      <td>100</td>\n      <td>100</td>\n      <td>100</td>\n    </tr>\n  </tbody>\n</table>\n<p>1000 rows × 8 columns</p>\n</div>"
     },
     "execution_count": 98,
     "metadata": {},
     "output_type": "execute_result"
    }
   ],
   "source": [
    "students_performance.sort_values(['gender', 'math score'])"
   ],
   "metadata": {
    "collapsed": false,
    "pycharm": {
     "name": "#%%\n"
    }
   }
  },
  {
   "cell_type": "code",
   "execution_count": 99,
   "outputs": [
    {
     "data": {
      "text/plain": "     gender race/ethnicity parental level of education         lunch  \\\n149    male        group E          associate's degree  free/reduced   \n623    male        group A                some college      standard   \n625    male        group D                some college      standard   \n916    male        group E           bachelor's degree      standard   \n306    male        group E                some college      standard   \n451  female        group E                some college      standard   \n458  female        group E           bachelor's degree      standard   \n962  female        group E          associate's degree      standard   \n114  female        group E           bachelor's degree      standard   \n263  female        group E                 high school      standard   \n\n    test preparation course  math score  reading score  writing score  \n149               completed         100            100             93  \n623               completed         100             96             86  \n625               completed         100             97             99  \n916               completed         100            100            100  \n306               completed          99             87             81  \n451                    none         100             92             97  \n458                    none         100            100            100  \n962                    none         100            100            100  \n114               completed          99            100            100  \n263                    none          99             93             90  ",
      "text/html": "<div>\n<style scoped>\n    .dataframe tbody tr th:only-of-type {\n        vertical-align: middle;\n    }\n\n    .dataframe tbody tr th {\n        vertical-align: top;\n    }\n\n    .dataframe thead th {\n        text-align: right;\n    }\n</style>\n<table border=\"1\" class=\"dataframe\">\n  <thead>\n    <tr style=\"text-align: right;\">\n      <th></th>\n      <th>gender</th>\n      <th>race/ethnicity</th>\n      <th>parental level of education</th>\n      <th>lunch</th>\n      <th>test preparation course</th>\n      <th>math score</th>\n      <th>reading score</th>\n      <th>writing score</th>\n    </tr>\n  </thead>\n  <tbody>\n    <tr>\n      <th>149</th>\n      <td>male</td>\n      <td>group E</td>\n      <td>associate's degree</td>\n      <td>free/reduced</td>\n      <td>completed</td>\n      <td>100</td>\n      <td>100</td>\n      <td>93</td>\n    </tr>\n    <tr>\n      <th>623</th>\n      <td>male</td>\n      <td>group A</td>\n      <td>some college</td>\n      <td>standard</td>\n      <td>completed</td>\n      <td>100</td>\n      <td>96</td>\n      <td>86</td>\n    </tr>\n    <tr>\n      <th>625</th>\n      <td>male</td>\n      <td>group D</td>\n      <td>some college</td>\n      <td>standard</td>\n      <td>completed</td>\n      <td>100</td>\n      <td>97</td>\n      <td>99</td>\n    </tr>\n    <tr>\n      <th>916</th>\n      <td>male</td>\n      <td>group E</td>\n      <td>bachelor's degree</td>\n      <td>standard</td>\n      <td>completed</td>\n      <td>100</td>\n      <td>100</td>\n      <td>100</td>\n    </tr>\n    <tr>\n      <th>306</th>\n      <td>male</td>\n      <td>group E</td>\n      <td>some college</td>\n      <td>standard</td>\n      <td>completed</td>\n      <td>99</td>\n      <td>87</td>\n      <td>81</td>\n    </tr>\n    <tr>\n      <th>451</th>\n      <td>female</td>\n      <td>group E</td>\n      <td>some college</td>\n      <td>standard</td>\n      <td>none</td>\n      <td>100</td>\n      <td>92</td>\n      <td>97</td>\n    </tr>\n    <tr>\n      <th>458</th>\n      <td>female</td>\n      <td>group E</td>\n      <td>bachelor's degree</td>\n      <td>standard</td>\n      <td>none</td>\n      <td>100</td>\n      <td>100</td>\n      <td>100</td>\n    </tr>\n    <tr>\n      <th>962</th>\n      <td>female</td>\n      <td>group E</td>\n      <td>associate's degree</td>\n      <td>standard</td>\n      <td>none</td>\n      <td>100</td>\n      <td>100</td>\n      <td>100</td>\n    </tr>\n    <tr>\n      <th>114</th>\n      <td>female</td>\n      <td>group E</td>\n      <td>bachelor's degree</td>\n      <td>standard</td>\n      <td>completed</td>\n      <td>99</td>\n      <td>100</td>\n      <td>100</td>\n    </tr>\n    <tr>\n      <th>263</th>\n      <td>female</td>\n      <td>group E</td>\n      <td>high school</td>\n      <td>standard</td>\n      <td>none</td>\n      <td>99</td>\n      <td>93</td>\n      <td>90</td>\n    </tr>\n  </tbody>\n</table>\n</div>"
     },
     "execution_count": 99,
     "metadata": {},
     "output_type": "execute_result"
    }
   ],
   "source": [
    "students_performance.sort_values(['gender', 'math score'], ascending=False)\\\n",
    "    .groupby('gender').head(5)"
   ],
   "metadata": {
    "collapsed": false,
    "pycharm": {
     "name": "#%%\n"
    }
   }
  },
  {
   "cell_type": "code",
   "execution_count": 100,
   "outputs": [],
   "source": [
    "students_performance = students_performance\\\n",
    "    .rename(columns=\n",
    "            {'parental level of education' : 'parental_level_of_education',\n",
    "             'test preparation course' : 'test_preparation_course',\n",
    "             'math score' : 'math_score',\n",
    "             'reading score' : 'reading_score',\n",
    "             'writing score' : 'writing_score'\n",
    "             })"
   ],
   "metadata": {
    "collapsed": false,
    "pycharm": {
     "name": "#%%\n"
    }
   }
  },
  {
   "cell_type": "code",
   "execution_count": 101,
   "outputs": [
    {
     "data": {
      "text/plain": "gender\nfemale    79\nmale      68\nName: math_score, dtype: int64"
     },
     "execution_count": 101,
     "metadata": {},
     "output_type": "execute_result"
    }
   ],
   "source": [
    "students_performance.groupby('gender').math_score.nunique()"
   ],
   "metadata": {
    "collapsed": false,
    "pycharm": {
     "name": "#%%\n"
    }
   }
  },
  {
   "cell_type": "code",
   "execution_count": 102,
   "outputs": [],
   "source": [
    "students_performance['total_score'] = students_performance.math_score + \\\n",
    "    students_performance.reading_score + students_performance.writing_score"
   ],
   "metadata": {
    "collapsed": false,
    "pycharm": {
     "name": "#%%\n"
    }
   }
  },
  {
   "cell_type": "code",
   "execution_count": 103,
   "outputs": [],
   "source": [
    "students_performance = students_performance.assign(total_log_score = \\\n",
    "                                                       np.log(students_performance.total_score))"
   ],
   "metadata": {
    "collapsed": false,
    "pycharm": {
     "name": "#%%\n"
    }
   }
  },
  {
   "cell_type": "code",
   "execution_count": 104,
   "outputs": [
    {
     "data": {
      "text/plain": "     gender race/ethnicity parental_level_of_education         lunch  \\\n0    female        group B           bachelor's degree      standard   \n1    female        group C                some college      standard   \n2    female        group B             master's degree      standard   \n3      male        group A          associate's degree  free/reduced   \n4      male        group C                some college      standard   \n..      ...            ...                         ...           ...   \n995  female        group E             master's degree      standard   \n996    male        group C                 high school  free/reduced   \n997  female        group C                 high school  free/reduced   \n998  female        group D                some college      standard   \n999  female        group D                some college  free/reduced   \n\n    test_preparation_course  math_score  reading_score  writing_score  \\\n0                      none          72             72             74   \n1                 completed          69             90             88   \n2                      none          90             95             93   \n3                      none          47             57             44   \n4                      none          76             78             75   \n..                      ...         ...            ...            ...   \n995               completed          88             99             95   \n996                    none          62             55             55   \n997               completed          59             71             65   \n998               completed          68             78             77   \n999                    none          77             86             86   \n\n     total_log_score  \n0           5.384495  \n1           5.509388  \n2           5.627621  \n3           4.997212  \n4           5.433722  \n..               ...  \n995         5.641907  \n996         5.147494  \n997         5.273000  \n998         5.407172  \n999         5.517453  \n\n[1000 rows x 9 columns]",
      "text/html": "<div>\n<style scoped>\n    .dataframe tbody tr th:only-of-type {\n        vertical-align: middle;\n    }\n\n    .dataframe tbody tr th {\n        vertical-align: top;\n    }\n\n    .dataframe thead th {\n        text-align: right;\n    }\n</style>\n<table border=\"1\" class=\"dataframe\">\n  <thead>\n    <tr style=\"text-align: right;\">\n      <th></th>\n      <th>gender</th>\n      <th>race/ethnicity</th>\n      <th>parental_level_of_education</th>\n      <th>lunch</th>\n      <th>test_preparation_course</th>\n      <th>math_score</th>\n      <th>reading_score</th>\n      <th>writing_score</th>\n      <th>total_log_score</th>\n    </tr>\n  </thead>\n  <tbody>\n    <tr>\n      <th>0</th>\n      <td>female</td>\n      <td>group B</td>\n      <td>bachelor's degree</td>\n      <td>standard</td>\n      <td>none</td>\n      <td>72</td>\n      <td>72</td>\n      <td>74</td>\n      <td>5.384495</td>\n    </tr>\n    <tr>\n      <th>1</th>\n      <td>female</td>\n      <td>group C</td>\n      <td>some college</td>\n      <td>standard</td>\n      <td>completed</td>\n      <td>69</td>\n      <td>90</td>\n      <td>88</td>\n      <td>5.509388</td>\n    </tr>\n    <tr>\n      <th>2</th>\n      <td>female</td>\n      <td>group B</td>\n      <td>master's degree</td>\n      <td>standard</td>\n      <td>none</td>\n      <td>90</td>\n      <td>95</td>\n      <td>93</td>\n      <td>5.627621</td>\n    </tr>\n    <tr>\n      <th>3</th>\n      <td>male</td>\n      <td>group A</td>\n      <td>associate's degree</td>\n      <td>free/reduced</td>\n      <td>none</td>\n      <td>47</td>\n      <td>57</td>\n      <td>44</td>\n      <td>4.997212</td>\n    </tr>\n    <tr>\n      <th>4</th>\n      <td>male</td>\n      <td>group C</td>\n      <td>some college</td>\n      <td>standard</td>\n      <td>none</td>\n      <td>76</td>\n      <td>78</td>\n      <td>75</td>\n      <td>5.433722</td>\n    </tr>\n    <tr>\n      <th>...</th>\n      <td>...</td>\n      <td>...</td>\n      <td>...</td>\n      <td>...</td>\n      <td>...</td>\n      <td>...</td>\n      <td>...</td>\n      <td>...</td>\n      <td>...</td>\n    </tr>\n    <tr>\n      <th>995</th>\n      <td>female</td>\n      <td>group E</td>\n      <td>master's degree</td>\n      <td>standard</td>\n      <td>completed</td>\n      <td>88</td>\n      <td>99</td>\n      <td>95</td>\n      <td>5.641907</td>\n    </tr>\n    <tr>\n      <th>996</th>\n      <td>male</td>\n      <td>group C</td>\n      <td>high school</td>\n      <td>free/reduced</td>\n      <td>none</td>\n      <td>62</td>\n      <td>55</td>\n      <td>55</td>\n      <td>5.147494</td>\n    </tr>\n    <tr>\n      <th>997</th>\n      <td>female</td>\n      <td>group C</td>\n      <td>high school</td>\n      <td>free/reduced</td>\n      <td>completed</td>\n      <td>59</td>\n      <td>71</td>\n      <td>65</td>\n      <td>5.273000</td>\n    </tr>\n    <tr>\n      <th>998</th>\n      <td>female</td>\n      <td>group D</td>\n      <td>some college</td>\n      <td>standard</td>\n      <td>completed</td>\n      <td>68</td>\n      <td>78</td>\n      <td>77</td>\n      <td>5.407172</td>\n    </tr>\n    <tr>\n      <th>999</th>\n      <td>female</td>\n      <td>group D</td>\n      <td>some college</td>\n      <td>free/reduced</td>\n      <td>none</td>\n      <td>77</td>\n      <td>86</td>\n      <td>86</td>\n      <td>5.517453</td>\n    </tr>\n  </tbody>\n</table>\n<p>1000 rows × 9 columns</p>\n</div>"
     },
     "execution_count": 104,
     "metadata": {},
     "output_type": "execute_result"
    }
   ],
   "source": [
    "students_performance.drop(['total_score'], axis=1)"
   ],
   "metadata": {
    "collapsed": false,
    "pycharm": {
     "name": "#%%\n"
    }
   }
  },
  {
   "cell_type": "code",
   "execution_count": 105,
   "outputs": [
    {
     "data": {
      "text/plain": "      Unnamed: 0  attack_type  id  localized_name  name  primary_attr  roles\nlegs                                                                        \n0             11            2  11              11    11             3     11\n2             95            2  95              95    95             3     81\n4              7            2   7               7     7             3      7\n6              3            2   3               3     3             3      3\n8              1            1   1               1     1             1      1",
      "text/html": "<div>\n<style scoped>\n    .dataframe tbody tr th:only-of-type {\n        vertical-align: middle;\n    }\n\n    .dataframe tbody tr th {\n        vertical-align: top;\n    }\n\n    .dataframe thead th {\n        text-align: right;\n    }\n</style>\n<table border=\"1\" class=\"dataframe\">\n  <thead>\n    <tr style=\"text-align: right;\">\n      <th></th>\n      <th>Unnamed: 0</th>\n      <th>attack_type</th>\n      <th>id</th>\n      <th>localized_name</th>\n      <th>name</th>\n      <th>primary_attr</th>\n      <th>roles</th>\n    </tr>\n    <tr>\n      <th>legs</th>\n      <th></th>\n      <th></th>\n      <th></th>\n      <th></th>\n      <th></th>\n      <th></th>\n      <th></th>\n    </tr>\n  </thead>\n  <tbody>\n    <tr>\n      <th>0</th>\n      <td>11</td>\n      <td>2</td>\n      <td>11</td>\n      <td>11</td>\n      <td>11</td>\n      <td>3</td>\n      <td>11</td>\n    </tr>\n    <tr>\n      <th>2</th>\n      <td>95</td>\n      <td>2</td>\n      <td>95</td>\n      <td>95</td>\n      <td>95</td>\n      <td>3</td>\n      <td>81</td>\n    </tr>\n    <tr>\n      <th>4</th>\n      <td>7</td>\n      <td>2</td>\n      <td>7</td>\n      <td>7</td>\n      <td>7</td>\n      <td>3</td>\n      <td>7</td>\n    </tr>\n    <tr>\n      <th>6</th>\n      <td>3</td>\n      <td>2</td>\n      <td>3</td>\n      <td>3</td>\n      <td>3</td>\n      <td>3</td>\n      <td>3</td>\n    </tr>\n    <tr>\n      <th>8</th>\n      <td>1</td>\n      <td>1</td>\n      <td>1</td>\n      <td>1</td>\n      <td>1</td>\n      <td>1</td>\n      <td>1</td>\n    </tr>\n  </tbody>\n</table>\n</div>"
     },
     "execution_count": 105,
     "metadata": {},
     "output_type": "execute_result"
    }
   ],
   "source": [
    "# Пересчитаем число ног у героев игры Dota2! Сгруппируйте героев из датасэта по числу их\n",
    "# ног (колонка legs), и заполните их число в задании ниже.\n",
    "# Данные взяты отсюда, на этом же сайте можно найти больше разнообразных данных по Dota2.\n",
    "df1 = pd.read_csv('https://stepik.org/media/attachments/course/4852/dota_hero_stats.csv')\n",
    "df1\n",
    "legs_0 = df1.groupby('legs').nunique()\n",
    "legs_0"
   ],
   "metadata": {
    "collapsed": false,
    "pycharm": {
     "name": "#%%\n"
    }
   }
  },
  {
   "cell_type": "code",
   "execution_count": 106,
   "outputs": [
    {
     "data": {
      "text/plain": "                   Salary\nExecutor Type            \nLoopa    A      58.000000\n         B     145.166667\n         C     154.333333\n         D     137.714286\n         E     164.000000\n         F     238.000000\nPupa     A     160.833333\n         B      77.000000\n         C      74.500000\n         D     146.500000\n         E     131.200000\n         F     136.250000",
      "text/html": "<div>\n<style scoped>\n    .dataframe tbody tr th:only-of-type {\n        vertical-align: middle;\n    }\n\n    .dataframe tbody tr th {\n        vertical-align: top;\n    }\n\n    .dataframe thead th {\n        text-align: right;\n    }\n</style>\n<table border=\"1\" class=\"dataframe\">\n  <thead>\n    <tr style=\"text-align: right;\">\n      <th></th>\n      <th></th>\n      <th>Salary</th>\n    </tr>\n    <tr>\n      <th>Executor</th>\n      <th>Type</th>\n      <th></th>\n    </tr>\n  </thead>\n  <tbody>\n    <tr>\n      <th rowspan=\"6\" valign=\"top\">Loopa</th>\n      <th>A</th>\n      <td>58.000000</td>\n    </tr>\n    <tr>\n      <th>B</th>\n      <td>145.166667</td>\n    </tr>\n    <tr>\n      <th>C</th>\n      <td>154.333333</td>\n    </tr>\n    <tr>\n      <th>D</th>\n      <td>137.714286</td>\n    </tr>\n    <tr>\n      <th>E</th>\n      <td>164.000000</td>\n    </tr>\n    <tr>\n      <th>F</th>\n      <td>238.000000</td>\n    </tr>\n    <tr>\n      <th rowspan=\"6\" valign=\"top\">Pupa</th>\n      <th>A</th>\n      <td>160.833333</td>\n    </tr>\n    <tr>\n      <th>B</th>\n      <td>77.000000</td>\n    </tr>\n    <tr>\n      <th>C</th>\n      <td>74.500000</td>\n    </tr>\n    <tr>\n      <th>D</th>\n      <td>146.500000</td>\n    </tr>\n    <tr>\n      <th>E</th>\n      <td>131.200000</td>\n    </tr>\n    <tr>\n      <th>F</th>\n      <td>136.250000</td>\n    </tr>\n  </tbody>\n</table>\n</div>"
     },
     "execution_count": 106,
     "metadata": {},
     "output_type": "execute_result"
    }
   ],
   "source": [
    "# К нам поступили данные из бухгалтерии о заработках Лупы и Пупы за разные задачи! Посмотрите\n",
    "# у кого из них больше средний заработок в различных категориях (колонка Type) и заполните\n",
    "# таблицу, указывая исполнителя с большим заработком в каждой из категорий.\n",
    "df2 = pd.read_csv('https://stepik.org/media/attachments/course/4852/accountancy.csv')\n",
    "result = df2.groupby(['Executor', 'Type']).aggregate({'Salary': 'mean'})\n",
    "result"
   ],
   "metadata": {
    "collapsed": false,
    "pycharm": {
     "name": "#%%\n"
    }
   }
  },
  {
   "cell_type": "code",
   "execution_count": 107,
   "outputs": [
    {
     "data": {
      "text/plain": "                          Unnamed: 0  id  legs  localized_name  name  roles\nattack_type primary_attr                                                   \nMelee       agi                   19  19     4              19    19     19\n            int                    2   2     1               2     2      2\n            str                   35  35     4              35    35     31\nRanged      agi                   18  18     3              18    18     16\n            int                   40  40     4              40    40     33\n            str                    3   3     2               3     3      3",
      "text/html": "<div>\n<style scoped>\n    .dataframe tbody tr th:only-of-type {\n        vertical-align: middle;\n    }\n\n    .dataframe tbody tr th {\n        vertical-align: top;\n    }\n\n    .dataframe thead th {\n        text-align: right;\n    }\n</style>\n<table border=\"1\" class=\"dataframe\">\n  <thead>\n    <tr style=\"text-align: right;\">\n      <th></th>\n      <th></th>\n      <th>Unnamed: 0</th>\n      <th>id</th>\n      <th>legs</th>\n      <th>localized_name</th>\n      <th>name</th>\n      <th>roles</th>\n    </tr>\n    <tr>\n      <th>attack_type</th>\n      <th>primary_attr</th>\n      <th></th>\n      <th></th>\n      <th></th>\n      <th></th>\n      <th></th>\n      <th></th>\n    </tr>\n  </thead>\n  <tbody>\n    <tr>\n      <th rowspan=\"3\" valign=\"top\">Melee</th>\n      <th>agi</th>\n      <td>19</td>\n      <td>19</td>\n      <td>4</td>\n      <td>19</td>\n      <td>19</td>\n      <td>19</td>\n    </tr>\n    <tr>\n      <th>int</th>\n      <td>2</td>\n      <td>2</td>\n      <td>1</td>\n      <td>2</td>\n      <td>2</td>\n      <td>2</td>\n    </tr>\n    <tr>\n      <th>str</th>\n      <td>35</td>\n      <td>35</td>\n      <td>4</td>\n      <td>35</td>\n      <td>35</td>\n      <td>31</td>\n    </tr>\n    <tr>\n      <th rowspan=\"3\" valign=\"top\">Ranged</th>\n      <th>agi</th>\n      <td>18</td>\n      <td>18</td>\n      <td>3</td>\n      <td>18</td>\n      <td>18</td>\n      <td>16</td>\n    </tr>\n    <tr>\n      <th>int</th>\n      <td>40</td>\n      <td>40</td>\n      <td>4</td>\n      <td>40</td>\n      <td>40</td>\n      <td>33</td>\n    </tr>\n    <tr>\n      <th>str</th>\n      <td>3</td>\n      <td>3</td>\n      <td>2</td>\n      <td>3</td>\n      <td>3</td>\n      <td>3</td>\n    </tr>\n  </tbody>\n</table>\n</div>"
     },
     "execution_count": 107,
     "metadata": {},
     "output_type": "execute_result"
    }
   ],
   "source": [
    "# Продолжим исследование героев Dota2. Сгруппируйте по колонкам attack_type и primary_attr\n",
    "# и выберите самый распространённый набор характеристик.\n",
    "df3 = pd.read_csv('https://stepik.org/media/attachments/course/4852/dota_hero_stats.csv')\n",
    "df3\n",
    "result_3 = df3.groupby(['attack_type', 'primary_attr'])\n",
    "result_3.nunique()"
   ],
   "metadata": {
    "collapsed": false,
    "pycharm": {
     "name": "#%%\n"
    }
   }
  },
  {
   "cell_type": "code",
   "execution_count": 108,
   "outputs": [
    {
     "data": {
      "text/plain": "              sucrose    alanin   citrate   glucose  oleic_acid\ngenus                                                          \nAscophyllum  6.825467  0.875429  5.253527  3.414961    2.432526\nCladophora   4.008792  3.997055  5.288311  2.800276    2.263472\nFucus        4.355112  3.566411  4.214878  2.814803    3.367647\nPalmaria     0.704580  3.176440  5.573905  3.242090    2.245538\nSaccharina   4.183596  3.524207  3.346710  4.980594    4.487252",
      "text/html": "<div>\n<style scoped>\n    .dataframe tbody tr th:only-of-type {\n        vertical-align: middle;\n    }\n\n    .dataframe tbody tr th {\n        vertical-align: top;\n    }\n\n    .dataframe thead th {\n        text-align: right;\n    }\n</style>\n<table border=\"1\" class=\"dataframe\">\n  <thead>\n    <tr style=\"text-align: right;\">\n      <th></th>\n      <th>sucrose</th>\n      <th>alanin</th>\n      <th>citrate</th>\n      <th>glucose</th>\n      <th>oleic_acid</th>\n    </tr>\n    <tr>\n      <th>genus</th>\n      <th></th>\n      <th></th>\n      <th></th>\n      <th></th>\n      <th></th>\n    </tr>\n  </thead>\n  <tbody>\n    <tr>\n      <th>Ascophyllum</th>\n      <td>6.825467</td>\n      <td>0.875429</td>\n      <td>5.253527</td>\n      <td>3.414961</td>\n      <td>2.432526</td>\n    </tr>\n    <tr>\n      <th>Cladophora</th>\n      <td>4.008792</td>\n      <td>3.997055</td>\n      <td>5.288311</td>\n      <td>2.800276</td>\n      <td>2.263472</td>\n    </tr>\n    <tr>\n      <th>Fucus</th>\n      <td>4.355112</td>\n      <td>3.566411</td>\n      <td>4.214878</td>\n      <td>2.814803</td>\n      <td>3.367647</td>\n    </tr>\n    <tr>\n      <th>Palmaria</th>\n      <td>0.704580</td>\n      <td>3.176440</td>\n      <td>5.573905</td>\n      <td>3.242090</td>\n      <td>2.245538</td>\n    </tr>\n    <tr>\n      <th>Saccharina</th>\n      <td>4.183596</td>\n      <td>3.524207</td>\n      <td>3.346710</td>\n      <td>4.980594</td>\n      <td>4.487252</td>\n    </tr>\n  </tbody>\n</table>\n</div>"
     },
     "execution_count": 108,
     "metadata": {},
     "output_type": "execute_result"
    }
   ],
   "source": [
    "# Аспирант Ростислав изучает метаболом водорослей и получил такую табличку. В ней он\n",
    "# записал вид каждой водоросли, её род (группа, объединяющая близкие виды),\n",
    "# группа (ещё одно объединение водорослей в крупные фракции) и концентрации\n",
    "# анализируемых веществ.\n",
    "# Помогите Ростиславу найти среднюю концентрацию каждого из веществ в каждом из родов\n",
    "# (колонка genus)! Для этого проведите группировку датафрэйма, сохранённого в переменной\n",
    "# concentrations, и примените метод, сохранив результат в переменной mean_concentrations.\n",
    "\n",
    "concentrations = pd.read_csv('algae.csv')\n",
    "mean_concentrations = concentrations.groupby('genus').aggregate({'sucrose' : 'mean',\n",
    "                                                 'alanin' : 'mean',\n",
    "                                                 'citrate' : 'mean',\n",
    "                                                 'glucose' : 'mean',\n",
    "                                                 'oleic_acid' : 'mean'\n",
    "                                                 })\n",
    "mean_concentrations"
   ],
   "metadata": {
    "collapsed": false,
    "pycharm": {
     "name": "#%%\n"
    }
   }
  },
  {
   "cell_type": "code",
   "execution_count": 109,
   "outputs": [
    {
     "data": {
      "text/plain": "array([0.35, 3.57, 6.64])"
     },
     "execution_count": 109,
     "metadata": {},
     "output_type": "execute_result"
    }
   ],
   "source": [
    "# Пользуясь предыдущими данными, укажите через пробел (без запятых) чему равны\n",
    "# минимальная, средняя и максимальная концентрации аланина (alanin) среди видов\n",
    "# рода Fucus. Округлите до 2-ого знака, десятичным разделителем является точка.\n",
    "np.around(concentrations.query(\"genus == 'Fucus'\").alanin.describe()\\\n",
    "          .loc[['min', 'mean', 'max']].values, decimals=2)"
   ],
   "metadata": {
    "collapsed": false,
    "pycharm": {
     "name": "#%%\n"
    }
   }
  },
  {
   "cell_type": "code",
   "execution_count": 110,
   "outputs": [],
   "source": [
    "# Сгруппируйте данные по переменной group и соотнесите вопросы с ответами"
   ],
   "metadata": {
    "collapsed": false,
    "pycharm": {
     "name": "#%%\n"
    }
   }
  },
  {
   "cell_type": "code",
   "execution_count": 111,
   "outputs": [
    {
     "data": {
      "text/plain": "         sucrose     alanin    citrate    glucose  oleic_acid\ncount  10.000000  10.000000  10.000000  10.000000   10.000000\nmean    4.098895   3.379068   4.603042   3.346347    3.054593\nstd     2.271190   2.400529   2.084948   1.094572    1.739319\nmin     0.704580   0.346431   1.071920   2.272724    0.304573\n25%     2.589835   1.353551   3.563185   2.596385    2.292285\n50%     3.569170   3.319066   5.413716   3.292899    2.678951\n75%     6.476373   5.272747   5.786515   3.571159    3.965826\nmax     6.825467   6.881024   6.940588   6.013219    6.405165",
      "text/html": "<div>\n<style scoped>\n    .dataframe tbody tr th:only-of-type {\n        vertical-align: middle;\n    }\n\n    .dataframe tbody tr th {\n        vertical-align: top;\n    }\n\n    .dataframe thead th {\n        text-align: right;\n    }\n</style>\n<table border=\"1\" class=\"dataframe\">\n  <thead>\n    <tr style=\"text-align: right;\">\n      <th></th>\n      <th>sucrose</th>\n      <th>alanin</th>\n      <th>citrate</th>\n      <th>glucose</th>\n      <th>oleic_acid</th>\n    </tr>\n  </thead>\n  <tbody>\n    <tr>\n      <th>count</th>\n      <td>10.000000</td>\n      <td>10.000000</td>\n      <td>10.000000</td>\n      <td>10.000000</td>\n      <td>10.000000</td>\n    </tr>\n    <tr>\n      <th>mean</th>\n      <td>4.098895</td>\n      <td>3.379068</td>\n      <td>4.603042</td>\n      <td>3.346347</td>\n      <td>3.054593</td>\n    </tr>\n    <tr>\n      <th>std</th>\n      <td>2.271190</td>\n      <td>2.400529</td>\n      <td>2.084948</td>\n      <td>1.094572</td>\n      <td>1.739319</td>\n    </tr>\n    <tr>\n      <th>min</th>\n      <td>0.704580</td>\n      <td>0.346431</td>\n      <td>1.071920</td>\n      <td>2.272724</td>\n      <td>0.304573</td>\n    </tr>\n    <tr>\n      <th>25%</th>\n      <td>2.589835</td>\n      <td>1.353551</td>\n      <td>3.563185</td>\n      <td>2.596385</td>\n      <td>2.292285</td>\n    </tr>\n    <tr>\n      <th>50%</th>\n      <td>3.569170</td>\n      <td>3.319066</td>\n      <td>5.413716</td>\n      <td>3.292899</td>\n      <td>2.678951</td>\n    </tr>\n    <tr>\n      <th>75%</th>\n      <td>6.476373</td>\n      <td>5.272747</td>\n      <td>5.786515</td>\n      <td>3.571159</td>\n      <td>3.965826</td>\n    </tr>\n    <tr>\n      <th>max</th>\n      <td>6.825467</td>\n      <td>6.881024</td>\n      <td>6.940588</td>\n      <td>6.013219</td>\n      <td>6.405165</td>\n    </tr>\n  </tbody>\n</table>\n</div>"
     },
     "execution_count": 111,
     "metadata": {},
     "output_type": "execute_result"
    }
   ],
   "source": [
    "concentrations.describe()"
   ],
   "metadata": {
    "collapsed": false,
    "pycharm": {
     "name": "#%%\n"
    }
   }
  },
  {
   "cell_type": "code",
   "execution_count": 112,
   "outputs": [
    {
     "data": {
      "text/plain": "        sucrose    alanin   citrate   glucose  oleic_acid\ngroup                                                    \nbrown  5.459098  7.220351  5.468942  1.767756    4.385233\ngreen  2.672626  7.059917  3.950113  0.266265    0.540388\nred         NaN       NaN       NaN       NaN         NaN",
      "text/html": "<div>\n<style scoped>\n    .dataframe tbody tr th:only-of-type {\n        vertical-align: middle;\n    }\n\n    .dataframe tbody tr th {\n        vertical-align: top;\n    }\n\n    .dataframe thead th {\n        text-align: right;\n    }\n</style>\n<table border=\"1\" class=\"dataframe\">\n  <thead>\n    <tr style=\"text-align: right;\">\n      <th></th>\n      <th>sucrose</th>\n      <th>alanin</th>\n      <th>citrate</th>\n      <th>glucose</th>\n      <th>oleic_acid</th>\n    </tr>\n    <tr>\n      <th>group</th>\n      <th></th>\n      <th></th>\n      <th></th>\n      <th></th>\n      <th></th>\n    </tr>\n  </thead>\n  <tbody>\n    <tr>\n      <th>brown</th>\n      <td>5.459098</td>\n      <td>7.220351</td>\n      <td>5.468942</td>\n      <td>1.767756</td>\n      <td>4.385233</td>\n    </tr>\n    <tr>\n      <th>green</th>\n      <td>2.672626</td>\n      <td>7.059917</td>\n      <td>3.950113</td>\n      <td>0.266265</td>\n      <td>0.540388</td>\n    </tr>\n    <tr>\n      <th>red</th>\n      <td>NaN</td>\n      <td>NaN</td>\n      <td>NaN</td>\n      <td>NaN</td>\n      <td>NaN</td>\n    </tr>\n  </tbody>\n</table>\n</div>"
     },
     "execution_count": 112,
     "metadata": {},
     "output_type": "execute_result"
    }
   ],
   "source": [
    "concentrations.groupby('group').var()"
   ],
   "metadata": {
    "collapsed": false,
    "pycharm": {
     "name": "#%%\n"
    }
   }
  },
  {
   "cell_type": "code",
   "execution_count": 113,
   "outputs": [],
   "source": [
    "# Тема 1.7. Визуализация, seaborn, почти также круто, как ggplot2\n",
    "import matplotlib.pyplot as plt\n",
    "import seaborn as sns"
   ],
   "metadata": {
    "collapsed": false,
    "pycharm": {
     "name": "#%%\n"
    }
   }
  },
  {
   "cell_type": "code",
   "execution_count": 114,
   "outputs": [
    {
     "data": {
      "text/plain": "<AxesSubplot:>"
     },
     "execution_count": 114,
     "metadata": {},
     "output_type": "execute_result"
    },
    {
     "data": {
      "text/plain": "<Figure size 640x480 with 1 Axes>",
      "image/png": "[encoded data removed]"
     },
     "metadata": {},
     "output_type": "display_data"
    }
   ],
   "source": [
    "students_performance.math_score.hist()"
   ],
   "metadata": {
    "collapsed": false,
    "pycharm": {
     "name": "#%%\n"
    }
   }
  },
  {
   "cell_type": "code",
   "execution_count": 115,
   "outputs": [
    {
     "data": {
      "text/plain": "<AxesSubplot:xlabel='math_score', ylabel='reading_score'>"
     },
     "execution_count": 115,
     "metadata": {},
     "output_type": "execute_result"
    },
    {
     "data": {
      "text/plain": "<Figure size 640x480 with 1 Axes>",
      "image/png": "[encoded data removed]"
     },
     "metadata": {},
     "output_type": "display_data"
    }
   ],
   "source": [
    "students_performance.plot.scatter( x='math_score', y = 'reading_score' )"
   ],
   "metadata": {
    "collapsed": false,
    "pycharm": {
     "name": "#%%\n"
    }
   }
  },
  {
   "cell_type": "code",
   "execution_count": 116,
   "outputs": [
    {
     "ename": "AttributeError",
     "evalue": "module 'seaborn' has no attribute 'lmplot'",
     "output_type": "error",
     "traceback": [
      "\u001B[1;31m---------------------------------------------------------------------------\u001B[0m",
      "\u001B[1;31mAttributeError\u001B[0m                            Traceback (most recent call last)",
      "\u001B[1;32m~\\AppData\\Local\\Temp\\ipykernel_13908\\1541949262.py\u001B[0m in \u001B[0;36m<module>\u001B[1;34m\u001B[0m\n\u001B[1;32m----> 1\u001B[1;33m \u001B[0msns\u001B[0m\u001B[1;33m.\u001B[0m\u001B[0mlmplot\u001B[0m\u001B[1;33m(\u001B[0m\u001B[0mx\u001B[0m\u001B[1;33m=\u001B[0m\u001B[1;34m'math_score'\u001B[0m\u001B[1;33m,\u001B[0m \u001B[0my\u001B[0m \u001B[1;33m=\u001B[0m \u001B[1;34m'reading_score'\u001B[0m\u001B[1;33m,\u001B[0m \u001B[0mdata\u001B[0m \u001B[1;33m=\u001B[0m \u001B[0mstudents_performance\u001B[0m\u001B[1;33m)\u001B[0m\u001B[1;33m\u001B[0m\u001B[1;33m\u001B[0m\u001B[0m\n\u001B[0m\u001B[0;32m      2\u001B[0m \u001B[1;33m\u001B[0m\u001B[0m\n",
      "\u001B[1;31mAttributeError\u001B[0m: module 'seaborn' has no attribute 'lmplot'"
     ]
    }
   ],
   "source": [
    "sns.lmplot(x='math_score', y = 'reading_score', data = students_performance)"
   ],
   "metadata": {
    "collapsed": false,
    "pycharm": {
     "name": "#%%\n"
    }
   }
  },
  {
   "cell_type": "code",
   "execution_count": null,
   "outputs": [],
   "source": [
    "sns.lmplot(x='math_score', y = 'reading_score', hue = 'gender', data = students_performance)"
   ],
   "metadata": {
    "collapsed": false,
    "pycharm": {
     "name": "#%%\n"
    }
   }
  },
  {
   "cell_type": "code",
   "execution_count": null,
   "outputs": [],
   "source": [
    "sns.lmplot(x='math_score', y = 'reading_score', hue = 'gender', \\\n",
    "           data = students_performance, fit_reg=False)"
   ],
   "metadata": {
    "collapsed": false,
    "pycharm": {
     "name": "#%%\n"
    }
   }
  },
  {
   "cell_type": "code",
   "execution_count": null,
   "outputs": [],
   "source": [
    "# Представьте, что у вас есть датафрэйм df, хранящий данные о зарплате за месяц, со всего\n",
    "# 1-ой колонкой income. Укажите верные способы, как отрисовать простой график зависимости\n",
    "# зарплаты от даты (то, как отображается дата сейчас не важно, главное сам график)\n",
    "# Убедитесь, что вы используте версию seaborn > = 0.9."
   ],
   "metadata": {
    "collapsed": false,
    "pycharm": {
     "name": "#%%\n"
    }
   }
  },
  {
   "cell_type": "code",
   "execution_count": null,
   "outputs": [],
   "source": [
    "df5 = pd.read_csv('https://stepik.org/media/attachments/course/4852/income.csv')\n",
    "df5"
   ],
   "metadata": {
    "collapsed": false,
    "pycharm": {
     "name": "#%%\n"
    }
   }
  },
  {
   "cell_type": "code",
   "execution_count": null,
   "outputs": [],
   "source": [
    "sns.lineplot(data=df)"
   ],
   "metadata": {
    "collapsed": false,
    "pycharm": {
     "name": "#%%\n"
    }
   }
  },
  {
   "cell_type": "code",
   "execution_count": null,
   "outputs": [],
   "source": [
    "df5.income.plot()"
   ],
   "metadata": {
    "collapsed": false,
    "pycharm": {
     "name": "#%%\n"
    }
   }
  },
  {
   "cell_type": "code",
   "execution_count": null,
   "outputs": [],
   "source": [
    "df5.plot(kind='line')"
   ],
   "metadata": {
    "collapsed": false,
    "pycharm": {
     "name": "#%%\n"
    }
   }
  },
  {
   "cell_type": "code",
   "execution_count": null,
   "outputs": [],
   "source": [
    "plt.plot(df5.index, df5.income)"
   ],
   "metadata": {
    "collapsed": false,
    "pycharm": {
     "name": "#%%\n"
    }
   }
  },
  {
   "cell_type": "code",
   "execution_count": null,
   "outputs": [],
   "source": [
    "df5['income'].plot()"
   ],
   "metadata": {
    "collapsed": false,
    "pycharm": {
     "name": "#%%\n"
    }
   }
  },
  {
   "cell_type": "code",
   "execution_count": null,
   "outputs": [],
   "source": [
    "sns.lineplot(x=df5.index, y=df5.income)"
   ],
   "metadata": {
    "collapsed": false,
    "pycharm": {
     "name": "#%%\n"
    }
   }
  },
  {
   "cell_type": "code",
   "execution_count": null,
   "outputs": [],
   "source": [
    "df5.plot()"
   ],
   "metadata": {
    "collapsed": false,
    "pycharm": {
     "name": "#%%\n"
    }
   }
  },
  {
   "cell_type": "code",
   "execution_count": null,
   "outputs": [],
   "source": [
    "# Вам дан датасэт с 2-мя фичами (колонками). Постройте график распределения точек (наблюдений)\n",
    "# в пространстве этих 2-ух переменных (одна из них будет x, а другая - y) и напишите число\n",
    "# кластеров, формируемых наблюдениями.\n",
    "# В ответе вы должны указать число кластеров в виде числа (например: 3)."
   ],
   "metadata": {
    "collapsed": false,
    "pycharm": {
     "name": "#%%\n"
    }
   }
  },
  {
   "cell_type": "code",
   "execution_count": null,
   "outputs": [],
   "source": [
    "df6 = pd.read_csv('dataset_209770_6.txt', sep=\" \")\n",
    "ax = sns.lmplot(x='x', y = 'y', data = df6, fit_reg=False)\n",
    "ax.set_xlabels('X')\n",
    "ax.set_ylabels('Y')\n",
    "ax"
   ],
   "metadata": {
    "collapsed": false,
    "pycharm": {
     "name": "#%%\n"
    }
   }
  },
  {
   "cell_type": "code",
   "execution_count": null,
   "outputs": [],
   "source": [
    "# Альтернативное решение предыдущей задачи\n",
    "df7 = pd.read_csv(\"dataset_209770_6.txt\", sep = ' ')\n",
    "df7.plot.scatter(x = 'x', y = 'y')"
   ],
   "metadata": {
    "collapsed": false,
    "pycharm": {
     "name": "#%%\n"
    }
   }
  },
  {
   "cell_type": "code",
   "execution_count": null,
   "outputs": [],
   "source": [
    "# Скачайте данные, представляющие геномные расстояния между видами, и постройте тепловую\n",
    "# карту, чтобы различия было видно наглядно. В ответ впишите, какая картинка соответствует\n",
    "# скачанным данным.\n",
    "# Чтобы график отображался как на картинках, добавьте"
   ],
   "metadata": {
    "collapsed": false,
    "pycharm": {
     "name": "#%%\n"
    }
   }
  },
  {
   "cell_type": "code",
   "execution_count": null,
   "outputs": [],
   "source": [
    "df8 = pd.read_csv('https://stepik.org/media/attachments/course/4852/genome_matrix.csv',\\\n",
    "                  index_col=0)\n",
    "df8"
   ],
   "metadata": {
    "collapsed": false,
    "pycharm": {
     "name": "#%%\n"
    }
   }
  },
  {
   "cell_type": "code",
   "execution_count": null,
   "outputs": [],
   "source": [
    "g = sns.heatmap(df8)\n",
    "g.xaxis.set_ticks_position('top')\n",
    "g.xaxis.set_tick_params(rotation=90)"
   ],
   "metadata": {
    "collapsed": false,
    "pycharm": {
     "name": "#%%\n"
    }
   }
  },
  {
   "cell_type": "code",
   "execution_count": null,
   "outputs": [],
   "source": [
    "# Пришло время узнать, кто самый главный рак какая роль в dota самая распространённая.\n",
    "# Скачайте датасэт с данными о героях из игры dota 2 и посмотрите на распределение их\n",
    "# возможных ролей в игре (колонка roles). Постройте гистограмму, отражающую скольким\n",
    "# героям сколько ролей приписывается (по мнению Valve, конечно) и напишите какое число\n",
    "# ролей у большинства героев.\n",
    "# Это задание можно выполнить многими путями, и рисовать гистограмму вообще говоря для\n",
    "# этого не нужно.\n",
    "# Данные взяты отсюда, на этом же сайте можно найти больше разнообразных данных по dota 2"
   ],
   "metadata": {
    "collapsed": false,
    "pycharm": {
     "name": "#%%\n"
    }
   }
  },
  {
   "cell_type": "code",
   "execution_count": null,
   "outputs": [],
   "source": [
    "df9 = pd.read_csv('https://stepik.org/media/attachments/course/4852/dota_hero_stats.csv')\n",
    "df9"
   ],
   "metadata": {
    "collapsed": false,
    "pycharm": {
     "name": "#%%\n"
    }
   }
  },
  {
   "cell_type": "code",
   "execution_count": null,
   "outputs": [],
   "source": [
    "quantity = df9.roles.map(eval).map(len)\n",
    "quantity.hist()"
   ],
   "metadata": {
    "collapsed": false,
    "pycharm": {
     "name": "#%%\n"
    }
   }
  },
  {
   "cell_type": "code",
   "execution_count": null,
   "outputs": [],
   "source": [
    "# Теперь перейдём к цветочкам. Магистрантка Адель решила изучить какие бывают ирисы.\n",
    "# Помогите Адель узнать об ирисах больше - скачайте датасэт со значениями параметров\n",
    "# ирисов, постройте их распределения и отметьте правильные утверждения, глядя на график.\n",
    "# Распределение должно быть по всем образцам, без разделения на вид.\n",
    "# Чтобы построить на 1-ом графике распределения для каждого из параметров, можно\n",
    "# воспользоваться петлёй"
   ],
   "metadata": {
    "collapsed": false,
    "pycharm": {
     "name": "#%%\n"
    }
   }
  },
  {
   "cell_type": "code",
   "execution_count": null,
   "outputs": [],
   "source": [
    "df10 = pd.read_csv('https://stepik.org/media/attachments/course/4852/iris.csv')\n",
    "df10"
   ],
   "metadata": {
    "collapsed": false,
    "pycharm": {
     "name": "#%%\n"
    }
   }
  },
  {
   "cell_type": "code",
   "execution_count": null,
   "outputs": [],
   "source": [
    "for column in df10:\n",
    "   sns.displot(df10[column])"
   ],
   "metadata": {
    "collapsed": false,
    "pycharm": {
     "name": "#%%\n"
    }
   }
  },
  {
   "cell_type": "code",
   "execution_count": null,
   "outputs": [],
   "source": [
    "# Рассмотрим длину лепестков (petal length) подробнее и воспользуемся для этого violin\n",
    "# плотом. Нарисуйте распределение длины лепестков ирисов из предыдущего датасэта с помощью\n",
    "# violin плота и выберите правильный (такой же) вариант среди предложенных"
   ],
   "metadata": {
    "collapsed": false,
    "pycharm": {
     "name": "#%%\n"
    }
   }
  },
  {
   "cell_type": "code",
   "execution_count": null,
   "outputs": [],
   "source": [
    "sns.violinplot(df10['petal length'])"
   ],
   "metadata": {
    "collapsed": false,
    "pycharm": {
     "name": "#%%\n"
    }
   }
  },
  {
   "cell_type": "code",
   "execution_count": null,
   "outputs": [],
   "source": [
    "# Продолжаем изучение ирисов! Ещё один важный тип графиков - pairplot, отражающий\n",
    "# зависимость пар переменных друг от друга, а также распределение каждой из переменных.\n",
    "# Постройте его и посмотрите на scatter плоты для каждой из пар фичей. Какая из пар\n",
    "# навскидку имеет наибольшую корреляцию?\n",
    "# Также обратите внимание, что можно разделить на группы с помощью параметра hue."
   ],
   "metadata": {
    "collapsed": false,
    "pycharm": {
     "name": "#%%\n"
    }
   }
  },
  {
   "cell_type": "code",
   "execution_count": null,
   "outputs": [],
   "source": [
    "sns.pairplot(df10)"
   ],
   "metadata": {
    "collapsed": false,
    "pycharm": {
     "name": "#%%\n"
    }
   }
  },
  {
   "cell_type": "code",
   "execution_count": null,
   "outputs": [],
   "source": [
    "# 1.8 Практические задания: Pandas\n",
    "# Любым удобным для вас способом создайте dataframe c именем my_data, в котором две колонки\n",
    "# c именами (type - строки, value - целые числа) и четыре наблюдения в каждой колонке:\n",
    "# type value\n",
    "# A    10\n",
    "# A    14\n",
    "# B    12\n",
    "# B    23"
   ],
   "metadata": {
    "collapsed": false,
    "pycharm": {
     "name": "#%%\n"
    }
   }
  },
  {
   "cell_type": "code",
   "execution_count": null,
   "outputs": [],
   "source": [
    "d = {'type': ['A', 'A', 'B', 'B'], 'value': [10, 14, 12, 23]}\n",
    "my_data = pd.DataFrame(data=d)\n",
    "my_data"
   ],
   "metadata": {
    "collapsed": false,
    "pycharm": {
     "name": "#%%\n"
    }
   }
  },
  {
   "cell_type": "code",
   "execution_count": null,
   "outputs": [],
   "source": [
    "my_data = pd.DataFrame([['A', 10],['A',14],['B',12],['B', 23]], columns=['type','value'])\n",
    "my_data\n"
   ],
   "metadata": {
    "collapsed": false,
    "pycharm": {
     "name": "#%% Альтернативное решение\n"
    }
   }
  },
  {
   "cell_type": "code",
   "execution_count": null,
   "outputs": [],
   "source": [
    "# Особенно важный навык при работе с данными - это умение быстро и эффективно отбирать\n",
    "# нужные вам колонки или строки.\n",
    "# Начнем с простого, в dataframe с именем my_stat сохранено 20 строк и четыре колонки\n",
    "# (V1, V2, V3, V4):\n",
    "# В переменную с именем subset_1 сохраните только первые 10 строк и только 1 и 3 колонку.\n",
    "# В переменную с именем subset_2 сохраните все строки кроме 1 и 5 и только 2 и 4 колонку.\n",
    "# Помните, что нумерация индексов строк и колонок начинается с 0.\n",
    "# Обратите внимание, получившиеся subset_1 и subset_2 - тоже должны быть dataframe.\n",
    "# Вы можете скачать набор данных, которые нам также пригодятся в следующих заданиях,  и\n",
    "# потренироваться у себя на компьютере. Чтобы считать данные при помощи pandas, используйте\n",
    "# функцию read_csv.\n",
    "# import pandas as pd\n",
    "# my_stat = pd.read_csv('my_stat.csv')\n",
    "# Важно понимать, в чем разница между pandas loc и iloc. Как отобрать все строки кроме\n",
    "# указанных? Умение искать ответы поможет вам на начальных этапах знакомства с pandas!"
   ],
   "metadata": {
    "collapsed": false,
    "pycharm": {
     "name": "#%%\n"
    }
   }
  },
  {
   "cell_type": "code",
   "execution_count": null,
   "outputs": [],
   "source": [
    "my_stat = pd.read_csv('https://stepik.org/media/attachments/course/4852/my_stat.csv')\n",
    "my_stat"
   ],
   "metadata": {
    "collapsed": false,
    "pycharm": {
     "name": "#%%\n"
    }
   }
  },
  {
   "cell_type": "code",
   "execution_count": null,
   "outputs": [],
   "source": [
    "subset_1 = my_stat.iloc[0:10, [0,2]]\n",
    "subset_1"
   ],
   "metadata": {
    "collapsed": false,
    "pycharm": {
     "name": "#%%\n"
    }
   }
  },
  {
   "cell_type": "code",
   "execution_count": null,
   "outputs": [],
   "source": [
    "df12 = my_stat.drop([0,4], axis =0)\n",
    "df12"
   ],
   "metadata": {
    "collapsed": false,
    "pycharm": {
     "name": "#%%\n"
    }
   }
  },
  {
   "cell_type": "code",
   "execution_count": null,
   "outputs": [],
   "source": [
    "subset_2 = df12.drop(['V1', 'V3'], axis=1)\n",
    "subset_2"
   ],
   "metadata": {
    "collapsed": false,
    "pycharm": {
     "name": "#%%\n"
    }
   }
  },
  {
   "cell_type": "code",
   "execution_count": null,
   "outputs": [],
   "source": [
    "# Альтернативное решение"
   ],
   "metadata": {
    "collapsed": false,
    "pycharm": {
     "name": "#%%\n"
    }
   }
  },
  {
   "cell_type": "code",
   "execution_count": null,
   "outputs": [],
   "source": [
    "subset_1=my_stat.iloc[:10, [0, 2]]\n",
    "subset_2=my_stat.iloc[:, [1, 3]].drop([0, 4])"
   ],
   "metadata": {
    "collapsed": false,
    "pycharm": {
     "name": "#%%\n"
    }
   }
  },
  {
   "cell_type": "code",
   "execution_count": null,
   "outputs": [],
   "source": [
    "# Теперь потренируемся отбирать нужные нам наблюдения (строки), соответствующие некому условию.\n",
    "# В dataframe с именем my_stat четыре колонки V1, V2, V3, V4:\n",
    "# В переменную subset_1 сохраните только те наблюдения, у которых значения переменной V1\n",
    "# строго больше 0, и значение переменной V3  равняется 'A'.\n",
    "# В переменную  subset_2  сохраните только те наблюдения, у которых значения переменной V2  не\n",
    "# равняются 10, или значения переменной V4 больше или равно 1.\n",
    "# Как и в предыдущей задаче результат фильтрации - это тоже dataframe.\n",
    "# Фильтрацию данных можно осуществить разными способами, например так или так."
   ],
   "metadata": {
    "collapsed": false,
    "pycharm": {
     "name": "#%%\n"
    }
   }
  },
  {
   "cell_type": "code",
   "execution_count": null,
   "outputs": [],
   "source": [
    "subset_3 = my_stat.query('V1 >0 & V3 ==\"A\"')\n",
    "subset_3"
   ],
   "metadata": {
    "collapsed": false,
    "pycharm": {
     "name": "#%%\n"
    }
   }
  },
  {
   "cell_type": "code",
   "execution_count": null,
   "outputs": [],
   "source": [
    "subset_4 = my_stat.query('V2 !=10 | V4 >= 1')\n",
    "subset_4"
   ],
   "metadata": {
    "collapsed": false,
    "pycharm": {
     "name": "#%%\n"
    }
   }
  },
  {
   "cell_type": "code",
   "execution_count": null,
   "outputs": [],
   "source": [
    "# Теперь давайте преобразуем наши данные. В переменной my_stat лежат данные с которыми вам необходимо проделать следующее\n",
    "#дейтвие. В этих данных (my_stat) создайте две новые переменных:\n",
    "# V5 = V1 + V4\n",
    "# V6 = натуральный логарифм переменной V2\n",
    "# Где найти натуральный логарифм?"
   ],
   "metadata": {
    "collapsed": false,
    "pycharm": {
     "name": "#%%\n"
    }
   }
  },
  {
   "cell_type": "code",
   "execution_count": null,
   "outputs": [],
   "source": [
    "my_stat['V5'] = my_stat['V1'] + my_stat['V4']\n",
    "my_stat['V6'] = np.log(my_stat['V2'])\n",
    "my_stat"
   ],
   "metadata": {
    "collapsed": false,
    "pycharm": {
     "name": "#%%\n"
    }
   }
  },
  {
   "cell_type": "code",
   "execution_count": null,
   "outputs": [],
   "source": [
    "# Альтернативное решение"
   ],
   "metadata": {
    "collapsed": false,
    "pycharm": {
     "name": "#%%\n"
    }
   }
  },
  {
   "cell_type": "code",
   "execution_count": null,
   "outputs": [],
   "source": [
    "my_stat=my_stat.assign(V5 = my_stat.V1+my_stat.V4, V6 = np.log(my_stat.V2));"
   ],
   "metadata": {
    "collapsed": false,
    "pycharm": {
     "name": "#%%\n"
    }
   }
  },
  {
   "cell_type": "code",
   "execution_count": null,
   "outputs": [],
   "source": [
    "# Отличная работа, закрепим еще пару важных вопросов и можно двигаться дальше.\n",
    "# Переменные V1, V2  ... такие имена никуда не годятся. С такими названиями легко запутаться в собственных данных и в\n",
    "# результате ошибиться в расчетах.\n",
    "# Переименуйте колонки в данных  my_stat следующим образом:\n",
    "# V1 -> session_value\n",
    "# V2 -> group\n",
    "# V3 -> time\n",
    "# V4 -> n_users"
   ],
   "metadata": {
    "collapsed": false,
    "pycharm": {
     "name": "#%%\n"
    }
   }
  },
  {
   "cell_type": "code",
   "execution_count": null,
   "outputs": [],
   "source": [
    "my_stat.rename(columns= {'V1' : 'session_value', 'V2' : 'group', 'V3' : 'time', 'V4' : 'n_users'}, inplace= True)\n",
    "my_stat"
   ],
   "metadata": {
    "collapsed": false,
    "pycharm": {
     "name": "#%%\n"
    }
   }
  },
  {
   "cell_type": "code",
   "execution_count": null,
   "outputs": [],
   "source": [
    "# И напоследок давайте разберемся, как заменять наблюдения в данных.\n",
    "# В dataframe с именем my_stat сохранены данные с 4 колонками: session_value, group, time, n_users.\n",
    "# В переменной session_value замените все пропущенные значения на нули.\n",
    "# В переменной n_users замените все отрицательные значения на медианное значение переменной n_users\n",
    "# (без учета отрицательных значений, разумеется).\n",
    "# Как получить медиану переменной n_users без учета отрицательных значений? Если не придумали решения,\n",
    "# подсказка - ищите один из возможных ответов в задачах, которые мы уже решили.\n",
    "# Данные для тренировки."
   ],
   "metadata": {
    "collapsed": false,
    "pycharm": {
     "name": "#%%\n"
    }
   }
  },
  {
   "cell_type": "code",
   "execution_count": null,
   "outputs": [],
   "source": [
    "my_stat1 = pd.read_csv('https://stepik.org/media/attachments/course/4852/my_stat_1.csv')"
   ],
   "metadata": {
    "collapsed": false,
    "pycharm": {
     "name": "#%%\n"
    }
   }
  },
  {
   "cell_type": "code",
   "execution_count": null,
   "outputs": [],
   "source": [
    "my_stat1 = my_stat1.fillna(0)"
   ],
   "metadata": {
    "collapsed": false,
    "pycharm": {
     "name": "#%%\n"
    }
   }
  },
  {
   "cell_type": "code",
   "execution_count": null,
   "outputs": [],
   "source": [
    "my_stat1.loc[my_stat1['n_users'] < 0, 'n_users'] = my_stat1.query('n_users>=0').n_users.median()"
   ],
   "metadata": {
    "collapsed": false,
    "pycharm": {
     "name": "#%%\n"
    }
   }
  },
  {
   "cell_type": "code",
   "execution_count": null,
   "outputs": [],
   "source": [
    "my_stat1"
   ],
   "metadata": {
    "collapsed": false,
    "pycharm": {
     "name": "#%%\n"
    }
   }
  },
  {
   "cell_type": "code",
   "execution_count": null,
   "outputs": [],
   "source": [
    "# Чуть не забыли, никакой анализ данных не обходится без агрегации наблюдений. Напомню, в pandas с этим нам поможет связка\n",
    "#groupby + некоторое преобразование. Например:\n",
    "# число наблюдений в каждой группе\n",
    "# df.groupby('group_var').count()\n",
    "# Для того, что бы сгруппировать данные по нескольким переменным, используем список с нужными именами:\n",
    "# df.groupby(['group_var_1', 'group_var_2']).count()\n",
    "#cОбратите внимание, что при такой записи группирующие переменные станут индексами в итоговом dataframe, изучите справку\n",
    "# по groupby, чтобы разобраться со всеми тонкостями группировки данных. Также функция count() применится ко всем колонкам,\n",
    "#что не всегда является желанным результатом. Чтобы применить функцию только к нужной колонке в данных, можно использовать\n",
    "# связку  groupby() + agg()\n",
    "# my_stat.groupby('group').agg({'n_users': 'count'})\n",
    "# В этой задаче для данных my_stat рассчитайте среднее значение переменной session_value для каждой группы (переменная group),\n",
    "# в получившемся dataframe  переменная group не должна превратиться в индекс. Также переименуйте колонку со средним значением\n",
    "# session_value в mean_session_value.\n",
    "# Получившийся результат сохраните в dataframe с именем mean_session_value_data."
   ],
   "metadata": {
    "collapsed": false,
    "pycharm": {
     "name": "#%%\n"
    }
   }
  },
  {
   "cell_type": "code",
   "execution_count": null,
   "outputs": [],
   "source": [
    "mean_session_value_data = my_stat.groupby('group', as_index= False).agg({'session_value' : 'mean'}).rename(columns= {'session_value' : 'mean_session_value'})"
   ],
   "metadata": {
    "collapsed": false,
    "pycharm": {
     "name": "#%%\n"
    }
   }
  },
  {
   "cell_type": "code",
   "execution_count": null,
   "outputs": [],
   "source": [
    "\n",
    "mean_session_value_data"
   ],
   "metadata": {
    "collapsed": false,
    "pycharm": {
     "name": "#%%\n"
    }
   }
  },
  {
   "cell_type": "code",
   "execution_count": null,
   "outputs": [],
   "source": [
    "# Альтернативное решение"
   ],
   "metadata": {
    "collapsed": false,
    "pycharm": {
     "name": "#%%\n"
    }
   }
  },
  {
   "cell_type": "code",
   "execution_count": null,
   "outputs": [],
   "source": [
    "mean_session_value_data = my_stat.groupby(\"group\",as_index=False).session_value.agg({'mean_session_value':'mean'})"
   ],
   "metadata": {
    "collapsed": false,
    "pycharm": {
     "name": "#%%\n"
    }
   }
  },
  {
   "cell_type": "code",
   "execution_count": null,
   "outputs": [],
   "source": [
    "mean_session_value_data"
   ],
   "metadata": {
    "collapsed": false,
    "pycharm": {
     "name": "#%%\n"
    }
   }
  },
  {
   "cell_type": "code",
   "execution_count": null,
   "outputs": [],
   "source": [
    "# 1.10. Stepik ML contest - это еще что такое\n",
    "# Практическим проектом нашего курса будет анализ активности студентов онлайн курса Введение в анализ данных в R,\n",
    "# спасибо команде stepik, что предоставили анонимизированные данные.\n",
    "# В этом модуле, мы разберемся с задачей, начнем исследовать данные, а об условиях соревнований, призах и тайных стэпах\n",
    "# раскажу во втором модуле!\n",
    "\n",
    "#Описание данных:\n",
    "\n",
    "#events_train.csv - данные о действиях, которые совершают студенты со стэпами\n",
    "#\n",
    "# step_id - id стэпа\n",
    "# user_id - анонимизированный id юзера\n",
    "# timestamp - время наступления события в формате unix date\n",
    "# action - событие, возможные значения:\n",
    "# discovered - пользователь перешел на стэп\n",
    "# viewed - просмотр шага,\n",
    "# started_attempt - начало попытки решить шаг, ранее нужно было явно нажать на кнопку - начать решение, перед тем как приступить к решению практического шага\n",
    "# passed - удачное решение практического шага\n",
    "# submissions_train.csv - данные о времени и статусах сабмитов к практическим заданиям\n",
    "# step_id - id стэпа\n",
    "# timestamp - время отправки решения в формате unix date\n",
    "# submission_status - статус решения\n",
    "# user_id - анонимизированный id юзера"
   ],
   "metadata": {
    "collapsed": false,
    "pycharm": {
     "name": "#%%\n"
    }
   }
  },
  {
   "cell_type": "code",
   "execution_count": null,
   "outputs": [],
   "source": [
    "event_data = pd.read_csv('https://stepik.org/media/attachments/course/4852/event_data_train.zip')"
   ],
   "metadata": {
    "collapsed": false,
    "pycharm": {
     "name": "#%%\n"
    }
   }
  },
  {
   "cell_type": "code",
   "execution_count": null,
   "outputs": [],
   "source": [
    "event_data.head(10)"
   ],
   "metadata": {
    "collapsed": false,
    "pycharm": {
     "name": "#%%\n"
    }
   }
  },
  {
   "cell_type": "code",
   "execution_count": null,
   "outputs": [],
   "source": [
    "event_data.action.unique()"
   ],
   "metadata": {
    "collapsed": false,
    "pycharm": {
     "name": "#%%\n"
    }
   }
  },
  {
   "cell_type": "code",
   "execution_count": null,
   "outputs": [],
   "source": [
    "event_data['date'] = pd.to_datetime(event_data.timestamp, unit='s')"
   ],
   "metadata": {
    "collapsed": false,
    "pycharm": {
     "name": "#%%\n"
    }
   }
  },
  {
   "cell_type": "code",
   "execution_count": null,
   "outputs": [],
   "source": [
    "event_data"
   ],
   "metadata": {
    "collapsed": false,
    "pycharm": {
     "name": "#%%\n"
    }
   }
  },
  {
   "cell_type": "code",
   "execution_count": null,
   "outputs": [],
   "source": [
    "event_data.date.min()"
   ],
   "metadata": {
    "collapsed": false,
    "pycharm": {
     "name": "#%%\n"
    }
   }
  },
  {
   "cell_type": "code",
   "execution_count": null,
   "outputs": [],
   "source": [
    "event_data.date.max()"
   ],
   "metadata": {
    "collapsed": false,
    "pycharm": {
     "name": "#%%\n"
    }
   }
  },
  {
   "cell_type": "code",
   "execution_count": null,
   "outputs": [],
   "source": [
    "event_data['day'] = event_data.date.dt.date"
   ],
   "metadata": {
    "collapsed": false,
    "pycharm": {
     "name": "#%%\n"
    }
   }
  },
  {
   "cell_type": "code",
   "execution_count": null,
   "outputs": [],
   "source": [
    "event_data"
   ],
   "metadata": {
    "collapsed": false,
    "pycharm": {
     "name": "#%%\n"
    }
   }
  },
  {
   "cell_type": "code",
   "execution_count": null,
   "outputs": [],
   "source": [
    "event_data.groupby('day').user_id.nunique().plot()"
   ],
   "metadata": {
    "collapsed": false,
    "pycharm": {
     "name": "#%%\n"
    }
   }
  },
  {
   "cell_type": "code",
   "execution_count": null,
   "outputs": [],
   "source": [
    "sns.set(rc = {'figure.figsize' : (9,6)})"
   ],
   "metadata": {
    "collapsed": false,
    "pycharm": {
     "name": "#%%\n"
    }
   }
  },
  {
   "cell_type": "code",
   "execution_count": null,
   "outputs": [],
   "source": [
    "event_data.groupby('day').user_id.nunique().plot()"
   ],
   "metadata": {
    "collapsed": false,
    "pycharm": {
     "name": "#%%\n"
    }
   }
  },
  {
   "cell_type": "code",
   "execution_count": null,
   "outputs": [],
   "source": [
    "event_data[event_data.action == 'passed'].groupby('user_id', as_index=False) \\\n",
    ".aggregate({'step_id' : 'count'}).rename(columns={'step_id' : 'passed_steps'})"
   ],
   "metadata": {
    "collapsed": false,
    "pycharm": {
     "name": "#%%\n"
    }
   }
  },
  {
   "cell_type": "code",
   "execution_count": null,
   "outputs": [],
   "source": [
    "event_data[event_data.action == 'passed'].groupby('user_id', as_index=False) \\\n",
    ".aggregate({'step_id' : 'count'}).rename(columns={'step_id' : 'passed_steps'}).passed_steps.hist()"
   ],
   "metadata": {
    "collapsed": false,
    "pycharm": {
     "name": "#%%\n"
    }
   }
  },
  {
   "cell_type": "code",
   "execution_count": null,
   "outputs": [],
   "source": [
    "event_data.pivot_table(index = 'user_id', columns='action', values = 'step_id', aggfunc = 'count', fill_value = 0)"
   ],
   "metadata": {
    "collapsed": false,
    "pycharm": {
     "name": "#%%\n"
    }
   }
  },
  {
   "cell_type": "code",
   "execution_count": null,
   "outputs": [],
   "source": [
    "event_data.pivot_table(index = 'user_id', columns='action', values = 'step_id', \\\n",
    "                       aggfunc = 'count', fill_value = 0).reset_index()"
   ],
   "metadata": {
    "collapsed": false,
    "pycharm": {
     "name": "#%%\n"
    }
   }
  },
  {
   "cell_type": "code",
   "execution_count": null,
   "outputs": [],
   "source": [
    "event_data.pivot_table(index = 'user_id', columns='action', values = 'step_id', \\\n",
    "                       aggfunc = 'count', fill_value = 0).reset_index().discovered.hist()"
   ],
   "metadata": {
    "collapsed": false,
    "pycharm": {
     "name": "#%%\n"
    }
   }
  },
  {
   "cell_type": "code",
   "execution_count": null,
   "outputs": [],
   "source": [
    "user_event_data = event_data.pivot_table(index = 'user_id', columns='action', values = 'step_id', \\\n",
    "                       aggfunc = 'count', fill_value = 0).reset_index()"
   ],
   "metadata": {
    "collapsed": false,
    "pycharm": {
     "name": "#%%\n"
    }
   }
  },
  {
   "cell_type": "code",
   "execution_count": null,
   "outputs": [],
   "source": [
    "user_event_data"
   ],
   "metadata": {
    "collapsed": false,
    "pycharm": {
     "name": "#%%\n"
    }
   }
  },
  {
   "cell_type": "code",
   "execution_count": null,
   "outputs": [],
   "source": [
    "submissions_train = pd.read_csv('https://stepik.org/media/attachments/course/4852/submissions_data_train.zip')"
   ],
   "metadata": {
    "collapsed": false,
    "pycharm": {
     "name": "#%%\n"
    }
   }
  },
  {
   "cell_type": "code",
   "execution_count": null,
   "outputs": [],
   "source": [
    "submissions_train"
   ],
   "metadata": {
    "collapsed": false,
    "pycharm": {
     "name": "#%%\n"
    }
   }
  },
  {
   "cell_type": "code",
   "execution_count": null,
   "outputs": [],
   "source": [
    "submissions_train['date'] = pd.to_datetime(submissions_train.timestamp, unit = 's')"
   ],
   "metadata": {
    "collapsed": false,
    "pycharm": {
     "name": "#%%\n"
    }
   }
  },
  {
   "cell_type": "code",
   "execution_count": null,
   "outputs": [],
   "source": [
    "submissions_train['day'] = submissions_train.date.dt.date"
   ],
   "metadata": {
    "collapsed": false,
    "pycharm": {
     "name": "#%%\n"
    }
   }
  },
  {
   "cell_type": "code",
   "execution_count": null,
   "outputs": [],
   "source": [
    "submissions_train"
   ],
   "metadata": {
    "collapsed": false,
    "pycharm": {
     "name": "#%%\n"
    }
   }
  },
  {
   "cell_type": "code",
   "execution_count": null,
   "outputs": [],
   "source": [
    "users_scores = submissions_train.pivot_table(index = 'user_id', columns='submission_status', values = 'step_id', \\\n",
    "                       aggfunc = 'count', fill_value = 0).reset_index()"
   ],
   "metadata": {
    "collapsed": false,
    "pycharm": {
     "name": "#%%\n"
    }
   }
  },
  {
   "cell_type": "code",
   "execution_count": null,
   "outputs": [],
   "source": [
    "# Определяем среднее время перерывов у юзеров на курсе\n",
    "gap_data = event_data[['user_id', 'day', 'timestamp']].drop_duplicates(subset = ['user_id', 'day']) \\\n",
    ".groupby('user_id')['timestamp'].apply(list) \\\n",
    ".apply(np.diff).values"
   ],
   "metadata": {
    "collapsed": false,
    "pycharm": {
     "name": "#%%\n"
    }
   }
  },
  {
   "cell_type": "code",
   "execution_count": null,
   "outputs": [],
   "source": [
    "gap_data = pd.Series(np.concatenate(gap_data, axis = 0))"
   ],
   "metadata": {
    "collapsed": false,
    "pycharm": {
     "name": "#%%\n"
    }
   }
  },
  {
   "cell_type": "code",
   "execution_count": null,
   "outputs": [],
   "source": [
    "gap_data = gap_data / (24 * 60 * 60)"
   ],
   "metadata": {
    "collapsed": false,
    "pycharm": {
     "name": "#%%\n"
    }
   }
  },
  {
   "cell_type": "code",
   "execution_count": null,
   "outputs": [],
   "source": [
    "gap_data[gap_data < 200].hist()"
   ],
   "metadata": {
    "collapsed": false,
    "pycharm": {
     "name": "#%%\n"
    }
   }
  },
  {
   "cell_type": "code",
   "execution_count": null,
   "outputs": [],
   "source": [
    "gap_data.quantile(0.95)"
   ],
   "metadata": {
    "collapsed": false,
    "pycharm": {
     "name": "#%%\n"
    }
   }
  },
  {
   "cell_type": "code",
   "execution_count": null,
   "outputs": [],
   "source": [
    "user_data = event_data.groupby('user_id', as_index=False).agg({'timestamp' : 'max'}).rename(columns={'timestamp' : 'last_timestamp'})"
   ],
   "metadata": {
    "collapsed": false,
    "pycharm": {
     "name": "#%%\n"
    }
   }
  },
  {
   "cell_type": "code",
   "execution_count": null,
   "outputs": [],
   "source": [
    "event_data.tail()"
   ],
   "metadata": {
    "collapsed": false,
    "pycharm": {
     "name": "#%%\n"
    }
   }
  },
  {
   "cell_type": "code",
   "execution_count": null,
   "outputs": [],
   "source": [
    "now = 1526772811\n",
    "drop_out= (24 * 60 * 60) * 30"
   ],
   "metadata": {
    "collapsed": false,
    "pycharm": {
     "name": "#%%\n"
    }
   }
  },
  {
   "cell_type": "code",
   "execution_count": null,
   "outputs": [],
   "source": [
    "user_data['is_gon_users'] = (now - user_data.last_timestamp) > drop_out"
   ],
   "metadata": {
    "collapsed": false,
    "pycharm": {
     "name": "#%%\n"
    }
   }
  },
  {
   "cell_type": "code",
   "execution_count": null,
   "outputs": [],
   "source": [
    "user_data = user_data.merge(users_scores, how = 'outer')"
   ],
   "metadata": {
    "collapsed": false,
    "pycharm": {
     "name": "#%%\n"
    }
   }
  },
  {
   "cell_type": "code",
   "execution_count": null,
   "outputs": [],
   "source": [
    "user_data = user_data.fillna(0)"
   ],
   "metadata": {
    "collapsed": false,
    "pycharm": {
     "name": "#%%\n"
    }
   }
  },
  {
   "cell_type": "code",
   "execution_count": null,
   "outputs": [],
   "source": [
    "user_data"
   ],
   "metadata": {
    "collapsed": false,
    "pycharm": {
     "name": "#%%\n"
    }
   }
  },
  {
   "cell_type": "code",
   "execution_count": null,
   "outputs": [],
   "source": [
    "user_data = user_data.merge(user_event_data, how = 'outer')"
   ],
   "metadata": {
    "collapsed": false,
    "pycharm": {
     "name": "#%%\n"
    }
   }
  },
  {
   "cell_type": "code",
   "execution_count": null,
   "outputs": [],
   "source": [
    "user_data"
   ],
   "metadata": {
    "collapsed": false,
    "pycharm": {
     "name": "#%%\n"
    }
   }
  },
  {
   "cell_type": "code",
   "execution_count": null,
   "outputs": [],
   "source": [
    "user_day = event_data.groupby('user_id').day.nunique().to_frame().reset_index()"
   ],
   "metadata": {
    "collapsed": false,
    "pycharm": {
     "name": "#%%\n"
    }
   }
  },
  {
   "cell_type": "code",
   "execution_count": null,
   "outputs": [],
   "source": [
    "user_day"
   ],
   "metadata": {
    "collapsed": false,
    "pycharm": {
     "name": "#%%\n"
    }
   }
  },
  {
   "cell_type": "code",
   "execution_count": null,
   "outputs": [],
   "source": [
    "user_data = user_data.merge(user_day,  how = 'outer')"
   ],
   "metadata": {
    "collapsed": false,
    "pycharm": {
     "name": "#%%\n"
    }
   }
  },
  {
   "cell_type": "code",
   "execution_count": null,
   "outputs": [],
   "source": [
    "user_data"
   ],
   "metadata": {
    "collapsed": false,
    "pycharm": {
     "name": "#%%\n"
    }
   }
  },
  {
   "cell_type": "code",
   "execution_count": null,
   "outputs": [],
   "source": [
    "user_data.user_id.nunique()"
   ],
   "metadata": {
    "collapsed": false,
    "pycharm": {
     "name": "#%%\n"
    }
   }
  },
  {
   "cell_type": "code",
   "execution_count": null,
   "outputs": [],
   "source": [
    "event_data.user_id.nunique()"
   ],
   "metadata": {
    "collapsed": false,
    "pycharm": {
     "name": "#%%\n"
    }
   }
  },
  {
   "cell_type": "code",
   "execution_count": null,
   "outputs": [],
   "source": [
    "user_data['passed_corse'] = user_data.passed > 170"
   ],
   "metadata": {
    "collapsed": false,
    "pycharm": {
     "name": "#%%\n"
    }
   }
  },
  {
   "cell_type": "code",
   "execution_count": null,
   "outputs": [],
   "source": [
    "user_data"
   ],
   "metadata": {
    "collapsed": false,
    "pycharm": {
     "name": "#%%\n"
    }
   }
  },
  {
   "cell_type": "code",
   "execution_count": null,
   "outputs": [],
   "source": [
    "user_data.groupby('passed_corse').count()"
   ],
   "metadata": {
    "collapsed": false,
    "pycharm": {
     "name": "#%%\n"
    }
   }
  },
  {
   "cell_type": "code",
   "execution_count": null,
   "outputs": [],
   "source": [
    "100 * 1425/17809"
   ],
   "metadata": {
    "collapsed": false,
    "pycharm": {
     "name": "#%%\n"
    }
   }
  },
  {
   "cell_type": "code",
   "execution_count": null,
   "outputs": [],
   "source": [
    "# Как я уже писал ранее, данные, с которыми мы работаем, обезличены, тоесть реальные id пользователей заменены случайным\n",
    "# числом. Анонимизация пользовательских данных - очень важная тема для Data Science. С одной стороны мы хотим знать о\n",
    "# поведении наших пользователей как можно больше, с другой стороны нам важно соблюдать приватность наших пользователей.\n",
    "# Поэтому данные о поведении пользователей анонимизируют не только когда речь идет об открытых данных, но и при работе с\n",
    "# данными внутри компании. Не заметили сколько писем вам недавно пришло об изменении политики конфеденциальности, хотите\n",
    "# узнать почему? В комментарии приложена ссылка на очень интересный доклад об этой проблеме.\n",
    "# А пока что вот вам хакерская задача, за каким вымышленным id скрывается Анатолий Карпов - автор курса, данные которого\n",
    "# мы анализируем?\n",
    "# Введите id Анатолия Карпова, под которым он фигурирует в данных events_data_train и submissions_data_train.\n"
   ],
   "metadata": {
    "collapsed": false,
    "pycharm": {
     "name": "#%%\n"
    }
   }
  },
  {
   "cell_type": "code",
   "execution_count": null,
   "outputs": [],
   "source": [
    "users_scores[ users_scores.correct == users_scores['correct'].max()]"
   ],
   "metadata": {
    "collapsed": false,
    "pycharm": {
     "name": "#%%\n"
    }
   }
  },
  {
   "cell_type": "code",
   "execution_count": null,
   "outputs": [],
   "source": [
    "id = event_data.groupby('user_id')['day'].nunique().idxmax()\n"
   ],
   "metadata": {
    "collapsed": false,
    "pycharm": {
     "name": "#%%\n"
    }
   }
  },
  {
   "cell_type": "code",
   "execution_count": null,
   "outputs": [],
   "source": [
    "id\n",
    "\n"
   ],
   "metadata": {
    "collapsed": false,
    "pycharm": {
     "name": "#%%\n"
    }
   }
  }
 ],
 "metadata": {
  "kernelspec": {
   "display_name": "Python 3",
   "language": "python",
   "name": "python3"
  },
  "language_info": {
   "codemirror_mode": {
    "name": "ipython",
    "version": 2
   },
   "file_extension": ".py",
   "mimetype": "text/x-python",
   "name": "python",
   "nbconvert_exporter": "python",
   "pygments_lexer": "ipython2",
   "version": "2.7.6"
  }
 },
 "nbformat": 4,
 "nbformat_minor": 0
}