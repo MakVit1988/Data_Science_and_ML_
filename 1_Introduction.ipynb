{
 "cells": [
  {
   "cell_type": "code",
   "execution_count": null,
   "outputs": [],
   "source": [],
   "metadata": {
    "collapsed": false,
    "pycharm": {
     "name": "#%%\n"
    }
   }
  },
  {
   "cell_type": "code",
   "execution_count": null,
   "outputs": [],
   "source": [
    "import pandas as pd\n",
    "import numpy as np"
   ],
   "metadata": {
    "collapsed": false,
    "pycharm": {
     "name": "#%%\n"
    }
   }
  },
  {
   "cell_type": "code",
   "execution_count": null,
   "outputs": [],
   "source": [
    "students_performance = pd.read_csv('https://stepik.org/media/attachments/course/4852/StudentsPerformance.csv')"
   ],
   "metadata": {
    "collapsed": false,
    "pycharm": {
     "name": "#%%\n"
    }
   }
  },
  {
   "cell_type": "code",
   "execution_count": null,
   "outputs": [],
   "source": [
    "students_performance"
   ],
   "metadata": {
    "collapsed": false,
    "pycharm": {
     "name": "#%%\n"
    }
   }
  },
  {
   "cell_type": "code",
   "execution_count": null,
   "outputs": [],
   "source": [
    "students_performance.describe()"
   ],
   "metadata": {
    "collapsed": false,
    "pycharm": {
     "name": "#%%\n"
    }
   }
  },
  {
   "cell_type": "code",
   "execution_count": null,
   "outputs": [],
   "source": [
    "students_performance.dtypes"
   ],
   "metadata": {
    "collapsed": false,
    "pycharm": {
     "name": "#%%\n"
    }
   }
  },
  {
   "cell_type": "code",
   "execution_count": null,
   "outputs": [],
   "source": [
    "students_performance.shape"
   ],
   "metadata": {
    "collapsed": false,
    "pycharm": {
     "name": "#%%\n"
    }
   }
  },
  {
   "cell_type": "code",
   "execution_count": null,
   "outputs": [],
   "source": [
    "students_performance.size"
   ],
   "metadata": {
    "collapsed": false,
    "pycharm": {
     "name": "#%%\n"
    }
   }
  },
  {
   "cell_type": "code",
   "execution_count": null,
   "outputs": [],
   "source": [
    "students_performance.index"
   ],
   "metadata": {
    "collapsed": false,
    "pycharm": {
     "name": "#%%\n"
    }
   }
  },
  {
   "cell_type": "code",
   "execution_count": null,
   "outputs": [],
   "source": [
    "df = pd.read_csv('https://stepik.org/media/attachments/course/4852/titanic.csv')"
   ],
   "metadata": {
    "collapsed": false,
    "pycharm": {
     "name": "#%%\n"
    }
   }
  },
  {
   "cell_type": "code",
   "execution_count": null,
   "outputs": [],
   "source": [
    "df"
   ],
   "metadata": {
    "collapsed": false,
    "pycharm": {
     "name": "#%%\n"
    }
   }
  },
  {
   "cell_type": "code",
   "execution_count": null,
   "outputs": [],
   "source": [
    "df.dtypes"
   ],
   "metadata": {
    "collapsed": false,
    "pycharm": {
     "name": "#%%\n"
    }
   }
  },
  {
   "cell_type": "code",
   "execution_count": null,
   "outputs": [],
   "source": [
    "# # Урок 1.6 Группировка и агрегация, ничего, скоро привыкнем\n",
    "students_performance.loc[students_performance.gender =='female']"
   ],
   "metadata": {
    "collapsed": false,
    "pycharm": {
     "name": "#%%\n"
    }
   }
  },
  {
   "cell_type": "code",
   "execution_count": null,
   "outputs": [],
   "source": [
    "students_performance.groupby('gender').mean()"
   ],
   "metadata": {
    "collapsed": false,
    "pycharm": {
     "name": "#%%\n"
    }
   }
  },
  {
   "cell_type": "code",
   "execution_count": null,
   "outputs": [],
   "source": [
    "students_performance.groupby('gender').aggregate({'math score' : 'mean', 'reading score' : 'mean'})"
   ],
   "metadata": {
    "collapsed": false,
    "pycharm": {
     "name": "#%%\n"
    }
   }
  },
  {
   "cell_type": "code",
   "execution_count": null,
   "outputs": [],
   "source": [
    "students_performance.groupby('gender', as_index=False)\\\n",
    "    .aggregate({'math score' : 'mean', 'reading score' : 'mean'})\\\n",
    "    .rename(columns={'math score' : 'mean math score', 'reading score' : 'mean reading score'})"
   ],
   "metadata": {
    "collapsed": false,
    "pycharm": {
     "name": "#%%\n"
    }
   }
  },
  {
   "cell_type": "code",
   "execution_count": null,
   "outputs": [],
   "source": [
    "students_performance.groupby(['gender', 'race/ethnicity'], as_index=False)\\\n",
    "    .aggregate({'math score' : 'mean', 'reading score' : 'mean'})\\\n",
    "    .rename(columns={'math score' : 'mean math score', 'reading score' : 'mean reading score'})"
   ],
   "metadata": {
    "collapsed": false,
    "pycharm": {
     "name": "#%%\n"
    }
   }
  },
  {
   "cell_type": "code",
   "execution_count": null,
   "outputs": [],
   "source": [
    "students_performance.groupby(['gender', 'race/ethnicity'])\\\n",
    "    .aggregate({'math score' : 'mean', 'reading score' : 'mean'})\\\n",
    "    .rename(columns={'math score' : 'mean math score', 'reading score' : 'mean reading score'})"
   ],
   "metadata": {
    "collapsed": false,
    "pycharm": {
     "name": "#%%\n"
    }
   }
  },
  {
   "cell_type": "code",
   "execution_count": null,
   "outputs": [],
   "source": [
    "mean_score = students_performance.groupby(['gender', 'race/ethnicity'])\\\n",
    "    .aggregate({'math score' : 'mean', 'reading score' : 'mean'})\\\n",
    "    .rename(columns={'math score' : 'mean math score', 'reading score' : 'mean reading score'})"
   ],
   "metadata": {
    "collapsed": false,
    "pycharm": {
     "name": "#%%\n"
    }
   }
  },
  {
   "cell_type": "code",
   "execution_count": null,
   "outputs": [],
   "source": [
    "mean_score.index"
   ],
   "metadata": {
    "collapsed": false,
    "pycharm": {
     "name": "#%%\n"
    }
   }
  },
  {
   "cell_type": "code",
   "execution_count": null,
   "outputs": [],
   "source": [
    "mean_score.loc[('female', 'group A')]"
   ],
   "metadata": {
    "collapsed": false,
    "pycharm": {
     "name": "#%%\n"
    }
   }
  },
  {
   "cell_type": "code",
   "execution_count": null,
   "outputs": [],
   "source": [
    "mean_score.loc[[('female', 'group A'),('female', 'group B')]]"
   ],
   "metadata": {
    "collapsed": false,
    "pycharm": {
     "name": "#%%\n"
    }
   }
  },
  {
   "cell_type": "code",
   "execution_count": null,
   "outputs": [],
   "source": [
    "students_performance.sort_values(['gender', 'math score'])"
   ],
   "metadata": {
    "collapsed": false,
    "pycharm": {
     "name": "#%%\n"
    }
   }
  },
  {
   "cell_type": "code",
   "execution_count": null,
   "outputs": [],
   "source": [
    "students_performance.sort_values(['gender', 'math score'], ascending=False)\\\n",
    "    .groupby('gender').head(5)"
   ],
   "metadata": {
    "collapsed": false,
    "pycharm": {
     "name": "#%%\n"
    }
   }
  },
  {
   "cell_type": "code",
   "execution_count": null,
   "outputs": [],
   "source": [
    "students_performance = students_performance\\\n",
    "    .rename(columns=\n",
    "            {'parental level of education' : 'parental_level_of_education',\n",
    "             'test preparation course' : 'test_preparation_course',\n",
    "             'math score' : 'math_score',\n",
    "             'reading score' : 'reading_score',\n",
    "             'writing score' : 'writing_score'\n",
    "             })"
   ],
   "metadata": {
    "collapsed": false,
    "pycharm": {
     "name": "#%%\n"
    }
   }
  },
  {
   "cell_type": "code",
   "execution_count": null,
   "outputs": [],
   "source": [
    "students_performance.groupby('gender').math_score.nunique()"
   ],
   "metadata": {
    "collapsed": false,
    "pycharm": {
     "name": "#%%\n"
    }
   }
  },
  {
   "cell_type": "code",
   "execution_count": null,
   "outputs": [],
   "source": [
    "students_performance['total_score'] = students_performance.math_score + \\\n",
    "    students_performance.reading_score + students_performance.writing_score"
   ],
   "metadata": {
    "collapsed": false,
    "pycharm": {
     "name": "#%%\n"
    }
   }
  },
  {
   "cell_type": "code",
   "execution_count": null,
   "outputs": [],
   "source": [
    "students_performance = students_performance.assign(total_log_score = \\\n",
    "                                                       np.log(students_performance.total_score))"
   ],
   "metadata": {
    "collapsed": false,
    "pycharm": {
     "name": "#%%\n"
    }
   }
  },
  {
   "cell_type": "code",
   "execution_count": null,
   "outputs": [],
   "source": [
    "students_performance.drop(['total_score'], axis=1)"
   ],
   "metadata": {
    "collapsed": false,
    "pycharm": {
     "name": "#%%\n"
    }
   }
  },
  {
   "cell_type": "code",
   "execution_count": null,
   "outputs": [],
   "source": [
    "# Пересчитаем число ног у героев игры Dota2! Сгруппируйте героев из датасэта по числу их\n",
    "# ног (колонка legs), и заполните их число в задании ниже.\n",
    "# Данные взяты отсюда, на этом же сайте можно найти больше разнообразных данных по Dota2.\n",
    "df1 = pd.read_csv('https://stepik.org/media/attachments/course/4852/dota_hero_stats.csv')\n",
    "df1\n",
    "legs_0 = df1.groupby('legs').nunique()\n",
    "legs_0"
   ],
   "metadata": {
    "collapsed": false,
    "pycharm": {
     "name": "#%%\n"
    }
   }
  },
  {
   "cell_type": "code",
   "execution_count": null,
   "outputs": [],
   "source": [
    "# К нам поступили данные из бухгалтерии о заработках Лупы и Пупы за разные задачи! Посмотрите\n",
    "# у кого из них больше средний заработок в различных категориях (колонка Type) и заполните\n",
    "# таблицу, указывая исполнителя с большим заработком в каждой из категорий.\n",
    "df2 = pd.read_csv('https://stepik.org/media/attachments/course/4852/accountancy.csv')\n",
    "result = df2.groupby(['Executor', 'Type']).aggregate({'Salary': 'mean'})\n",
    "result"
   ],
   "metadata": {
    "collapsed": false,
    "pycharm": {
     "name": "#%%\n"
    }
   }
  },
  {
   "cell_type": "code",
   "execution_count": null,
   "outputs": [],
   "source": [
    "# Продолжим исследование героев Dota2. Сгруппируйте по колонкам attack_type и primary_attr\n",
    "# и выберите самый распространённый набор характеристик.\n",
    "df3 = pd.read_csv('https://stepik.org/media/attachments/course/4852/dota_hero_stats.csv')\n",
    "df3\n",
    "result_3 = df3.groupby(['attack_type', 'primary_attr'])\n",
    "result_3.nunique()"
   ],
   "metadata": {
    "collapsed": false,
    "pycharm": {
     "name": "#%%\n"
    }
   }
  },
  {
   "cell_type": "code",
   "execution_count": null,
   "outputs": [],
   "source": [
    "# Аспирант Ростислав изучает метаболом водорослей и получил такую табличку. В ней он\n",
    "# записал вид каждой водоросли, её род (группа, объединяющая близкие виды),\n",
    "# группа (ещё одно объединение водорослей в крупные фракции) и концентрации\n",
    "# анализируемых веществ.\n",
    "# Помогите Ростиславу найти среднюю концентрацию каждого из веществ в каждом из родов\n",
    "# (колонка genus)! Для этого проведите группировку датафрэйма, сохранённого в переменной\n",
    "# concentrations, и примените метод, сохранив результат в переменной mean_concentrations.\n",
    "\n",
    "concentrations = pd.read_csv('algae.csv')\n",
    "mean_concentrations = concentrations.groupby('genus').aggregate({'sucrose' : 'mean',\n",
    "                                                 'alanin' : 'mean',\n",
    "                                                 'citrate' : 'mean',\n",
    "                                                 'glucose' : 'mean',\n",
    "                                                 'oleic_acid' : 'mean'\n",
    "                                                 })\n",
    "mean_concentrations"
   ],
   "metadata": {
    "collapsed": false,
    "pycharm": {
     "name": "#%%\n"
    }
   }
  },
  {
   "cell_type": "code",
   "execution_count": null,
   "outputs": [],
   "source": [
    "# Пользуясь предыдущими данными, укажите через пробел (без запятых) чему равны\n",
    "# минимальная, средняя и максимальная концентрации аланина (alanin) среди видов\n",
    "# рода Fucus. Округлите до 2-ого знака, десятичным разделителем является точка.\n",
    "np.around(concentrations.query(\"genus == 'Fucus'\").alanin.describe()\\\n",
    "          .loc[['min', 'mean', 'max']].values, decimals=2)"
   ],
   "metadata": {
    "collapsed": false,
    "pycharm": {
     "name": "#%%\n"
    }
   }
  },
  {
   "cell_type": "code",
   "execution_count": null,
   "outputs": [],
   "source": [
    "# Сгруппируйте данные по переменной group и соотнесите вопросы с ответами"
   ],
   "metadata": {
    "collapsed": false,
    "pycharm": {
     "name": "#%%\n"
    }
   }
  },
  {
   "cell_type": "code",
   "execution_count": null,
   "outputs": [],
   "source": [
    "concentrations.describe()"
   ],
   "metadata": {
    "collapsed": false,
    "pycharm": {
     "name": "#%%\n"
    }
   }
  },
  {
   "cell_type": "code",
   "execution_count": null,
   "outputs": [],
   "source": [
    "concentrations.groupby('group').var()"
   ],
   "metadata": {
    "collapsed": false,
    "pycharm": {
     "name": "#%%\n"
    }
   }
  },
  {
   "cell_type": "code",
   "execution_count": null,
   "outputs": [],
   "source": [
    "# Тема 1.7. Визуализация, seaborn, почти также круто, как ggplot2\n",
    "import matplotlib.pyplot as plt\n",
    "import seaborn as sns"
   ],
   "metadata": {
    "collapsed": false,
    "pycharm": {
     "name": "#%%\n"
    }
   }
  },
  {
   "cell_type": "code",
   "execution_count": null,
   "outputs": [],
   "source": [
    "students_performance.math_score.hist()"
   ],
   "metadata": {
    "collapsed": false,
    "pycharm": {
     "name": "#%%\n"
    }
   }
  },
  {
   "cell_type": "code",
   "execution_count": null,
   "outputs": [],
   "source": [
    "students_performance.plot.scatter( x='math_score', y = 'reading_score' )"
   ],
   "metadata": {
    "collapsed": false,
    "pycharm": {
     "name": "#%%\n"
    }
   }
  },
  {
   "cell_type": "code",
   "execution_count": null,
   "outputs": [],
   "source": [
    "sns.lmplot(x='math_score', y = 'reading_score', data = students_performance)"
   ],
   "metadata": {
    "collapsed": false,
    "pycharm": {
     "name": "#%%\n"
    }
   }
  },
  {
   "cell_type": "code",
   "execution_count": null,
   "outputs": [],
   "source": [
    "sns.lmplot(x='math_score', y = 'reading_score', hue = 'gender', data = students_performance)"
   ],
   "metadata": {
    "collapsed": false,
    "pycharm": {
     "name": "#%%\n"
    }
   }
  },
  {
   "cell_type": "code",
   "execution_count": null,
   "outputs": [],
   "source": [
    "sns.lmplot(x='math_score', y = 'reading_score', hue = 'gender', \\\n",
    "           data = students_performance, fit_reg=False)"
   ],
   "metadata": {
    "collapsed": false,
    "pycharm": {
     "name": "#%%\n"
    }
   }
  },
  {
   "cell_type": "code",
   "execution_count": null,
   "outputs": [],
   "source": [
    "# Представьте, что у вас есть датафрэйм df, хранящий данные о зарплате за месяц, со всего\n",
    "# 1-ой колонкой income. Укажите верные способы, как отрисовать простой график зависимости\n",
    "# зарплаты от даты (то, как отображается дата сейчас не важно, главное сам график)\n",
    "# Убедитесь, что вы используте версию seaborn > = 0.9."
   ],
   "metadata": {
    "collapsed": false,
    "pycharm": {
     "name": "#%%\n"
    }
   }
  },
  {
   "cell_type": "code",
   "execution_count": null,
   "outputs": [],
   "source": [
    "df5 = pd.read_csv('https://stepik.org/media/attachments/course/4852/income.csv')\n",
    "df5"
   ],
   "metadata": {
    "collapsed": false,
    "pycharm": {
     "name": "#%%\n"
    }
   }
  },
  {
   "cell_type": "code",
   "execution_count": null,
   "outputs": [],
   "source": [
    "sns.lineplot(data=df5)"
   ],
   "metadata": {
    "collapsed": false,
    "pycharm": {
     "name": "#%%\n"
    }
   }
  },
  {
   "cell_type": "code",
   "execution_count": null,
   "outputs": [],
   "source": [
    "df5.income.plot()"
   ],
   "metadata": {
    "collapsed": false,
    "pycharm": {
     "name": "#%%\n"
    }
   }
  },
  {
   "cell_type": "code",
   "execution_count": null,
   "outputs": [],
   "source": [
    "df5.plot(kind='line')"
   ],
   "metadata": {
    "collapsed": false,
    "pycharm": {
     "name": "#%%\n"
    }
   }
  },
  {
   "cell_type": "code",
   "execution_count": null,
   "outputs": [],
   "source": [
    "plt.plot(df5.index, df5.income)"
   ],
   "metadata": {
    "collapsed": false,
    "pycharm": {
     "name": "#%%\n"
    }
   }
  },
  {
   "cell_type": "code",
   "execution_count": null,
   "outputs": [],
   "source": [
    "df5['income'].plot()"
   ],
   "metadata": {
    "collapsed": false,
    "pycharm": {
     "name": "#%%\n"
    }
   }
  },
  {
   "cell_type": "code",
   "execution_count": null,
   "outputs": [],
   "source": [
    "sns.lineplot(x=df5.index, y=df5.income)"
   ],
   "metadata": {
    "collapsed": false,
    "pycharm": {
     "name": "#%%\n"
    }
   }
  },
  {
   "cell_type": "code",
   "execution_count": null,
   "outputs": [],
   "source": [
    "df5.plot()"
   ],
   "metadata": {
    "collapsed": false,
    "pycharm": {
     "name": "#%%\n"
    }
   }
  },
  {
   "cell_type": "code",
   "execution_count": null,
   "outputs": [],
   "source": [
    "# Вам дан датасэт с 2-мя фичами (колонками). Постройте график распределения точек (наблюдений)\n",
    "# в пространстве этих 2-ух переменных (одна из них будет x, а другая - y) и напишите число\n",
    "# кластеров, формируемых наблюдениями.\n",
    "# В ответе вы должны указать число кластеров в виде числа (например: 3)."
   ],
   "metadata": {
    "collapsed": false,
    "pycharm": {
     "name": "#%%\n"
    }
   }
  },
  {
   "cell_type": "code",
   "execution_count": null,
   "outputs": [],
   "source": [
    "df6 = pd.read_csv('dataset_209770_6.txt', sep=\" \")\n",
    "ax = sns.lmplot(x='x', y = 'y', data = df6, fit_reg=False)\n",
    "ax.set_xlabels('X')\n",
    "ax.set_ylabels('Y')\n",
    "ax"
   ],
   "metadata": {
    "collapsed": false,
    "pycharm": {
     "name": "#%%\n"
    }
   }
  },
  {
   "cell_type": "code",
   "execution_count": null,
   "outputs": [],
   "source": [
    "# Альтернативное решение предыдущей задачи\n",
    "df7 = pd.read_csv(\"dataset_209770_6.txt\", sep = ' ')\n",
    "df7.plot.scatter(x = 'x', y = 'y')"
   ],
   "metadata": {
    "collapsed": false,
    "pycharm": {
     "name": "#%%\n"
    }
   }
  },
  {
   "cell_type": "code",
   "execution_count": null,
   "outputs": [],
   "source": [
    "# Скачайте данные, представляющие геномные расстояния между видами, и постройте тепловую\n",
    "# карту, чтобы различия было видно наглядно. В ответ впишите, какая картинка соответствует\n",
    "# скачанным данным.\n",
    "# Чтобы график отображался как на картинках, добавьте"
   ],
   "metadata": {
    "collapsed": false,
    "pycharm": {
     "name": "#%%\n"
    }
   }
  },
  {
   "cell_type": "code",
   "execution_count": null,
   "outputs": [],
   "source": [
    "df8 = pd.read_csv('https://stepik.org/media/attachments/course/4852/genome_matrix.csv',\\\n",
    "                  index_col=0)\n",
    "df8"
   ],
   "metadata": {
    "collapsed": false,
    "pycharm": {
     "name": "#%%\n"
    }
   }
  },
  {
   "cell_type": "code",
   "execution_count": null,
   "outputs": [],
   "source": [
    "g = sns.heatmap(df8)\n",
    "g.xaxis.set_ticks_position('top')\n",
    "g.xaxis.set_tick_params(rotation=90)"
   ],
   "metadata": {
    "collapsed": false,
    "pycharm": {
     "name": "#%%\n"
    }
   }
  },
  {
   "cell_type": "code",
   "execution_count": null,
   "outputs": [],
   "source": [
    "# Пришло время узнать, кто самый главный рак какая роль в dota самая распространённая.\n",
    "# Скачайте датасэт с данными о героях из игры dota 2 и посмотрите на распределение их\n",
    "# возможных ролей в игре (колонка roles). Постройте гистограмму, отражающую скольким\n",
    "# героям сколько ролей приписывается (по мнению Valve, конечно) и напишите какое число\n",
    "# ролей у большинства героев.\n",
    "# Это задание можно выполнить многими путями, и рисовать гистограмму вообще говоря для\n",
    "# этого не нужно.\n",
    "# Данные взяты отсюда, на этом же сайте можно найти больше разнообразных данных по dota 2"
   ],
   "metadata": {
    "collapsed": false,
    "pycharm": {
     "name": "#%%\n"
    }
   }
  },
  {
   "cell_type": "code",
   "execution_count": null,
   "outputs": [],
   "source": [
    "df9 = pd.read_csv('https://stepik.org/media/attachments/course/4852/dota_hero_stats.csv')\n",
    "df9"
   ],
   "metadata": {
    "collapsed": false,
    "pycharm": {
     "name": "#%%\n"
    }
   }
  },
  {
   "cell_type": "code",
   "execution_count": null,
   "outputs": [],
   "source": [
    "quantity = df9.roles.map(eval).map(len)\n",
    "quantity.hist()"
   ],
   "metadata": {
    "collapsed": false,
    "pycharm": {
     "name": "#%%\n"
    }
   }
  },
  {
   "cell_type": "code",
   "execution_count": null,
   "outputs": [],
   "source": [
    "# Теперь перейдём к цветочкам. Магистрантка Адель решила изучить какие бывают ирисы.\n",
    "# Помогите Адель узнать об ирисах больше - скачайте датасэт со значениями параметров\n",
    "# ирисов, постройте их распределения и отметьте правильные утверждения, глядя на график.\n",
    "# Распределение должно быть по всем образцам, без разделения на вид.\n",
    "# Чтобы построить на 1-ом графике распределения для каждого из параметров, можно\n",
    "# воспользоваться петлёй"
   ],
   "metadata": {
    "collapsed": false,
    "pycharm": {
     "name": "#%%\n"
    }
   }
  },
  {
   "cell_type": "code",
   "execution_count": null,
   "outputs": [],
   "source": [
    "df10 = pd.read_csv('https://stepik.org/media/attachments/course/4852/iris.csv')\n",
    "df10"
   ],
   "metadata": {
    "collapsed": false,
    "pycharm": {
     "name": "#%%\n"
    }
   }
  },
  {
   "cell_type": "code",
   "execution_count": null,
   "outputs": [],
   "source": [
    "for column in df10:\n",
    "   sns.distplot(df10[column])"
   ],
   "metadata": {
    "collapsed": false,
    "pycharm": {
     "name": "#%%\n"
    }
   }
  },
  {
   "cell_type": "code",
   "execution_count": null,
   "outputs": [],
   "source": [
    "# Рассмотрим длину лепестков (petal length) подробнее и воспользуемся для этого violin\n",
    "# плотом. Нарисуйте распределение длины лепестков ирисов из предыдущего датасэта с помощью\n",
    "# violin плота и выберите правильный (такой же) вариант среди предложенных"
   ],
   "metadata": {
    "collapsed": false,
    "pycharm": {
     "name": "#%%\n"
    }
   }
  },
  {
   "cell_type": "code",
   "execution_count": null,
   "outputs": [],
   "source": [
    "sns.violinplot(df10['petal length'])"
   ],
   "metadata": {
    "collapsed": false,
    "pycharm": {
     "name": "#%%\n"
    }
   }
  },
  {
   "cell_type": "code",
   "execution_count": null,
   "outputs": [],
   "source": [
    "# Продолжаем изучение ирисов! Ещё один важный тип графиков - pairplot, отражающий\n",
    "# зависимость пар переменных друг от друга, а также распределение каждой из переменных.\n",
    "# Постройте его и посмотрите на scatter плоты для каждой из пар фичей. Какая из пар\n",
    "# навскидку имеет наибольшую корреляцию?\n",
    "# Также обратите внимание, что можно разделить на группы с помощью параметра hue."
   ],
   "metadata": {
    "collapsed": false,
    "pycharm": {
     "name": "#%%\n"
    }
   }
  },
  {
   "cell_type": "code",
   "execution_count": null,
   "outputs": [],
   "source": [
    "sns.pairplot(df10)"
   ],
   "metadata": {
    "collapsed": false,
    "pycharm": {
     "name": "#%%\n"
    }
   }
  },
  {
   "cell_type": "code",
   "execution_count": null,
   "outputs": [],
   "source": [
    "# 1.8 Практические задания: Pandas\n",
    "# Любым удобным для вас способом создайте dataframe c именем my_data, в котором две колонки\n",
    "# c именами (type - строки, value - целые числа) и четыре наблюдения в каждой колонке:\n",
    "# type value\n",
    "# A    10\n",
    "# A    14\n",
    "# B    12\n",
    "# B    23"
   ],
   "metadata": {
    "collapsed": false,
    "pycharm": {
     "name": "#%%\n"
    }
   }
  },
  {
   "cell_type": "code",
   "execution_count": null,
   "outputs": [],
   "source": [
    "d = {'type': ['A', 'A', 'B', 'B'], 'value': [10, 14, 12, 23]}\n",
    "my_data = pd.DataFrame(data=d)\n",
    "my_data"
   ],
   "metadata": {
    "collapsed": false,
    "pycharm": {
     "name": "#%%\n"
    }
   }
  },
  {
   "cell_type": "code",
   "execution_count": null,
   "outputs": [],
   "source": [
    "my_data = pd.DataFrame([['A', 10],['A',14],['B',12],['B', 23]], columns=['type','value'])\n",
    "my_data\n"
   ],
   "metadata": {
    "collapsed": false,
    "pycharm": {
     "name": "#%% Альтернативное решение\n"
    }
   }
  },
  {
   "cell_type": "code",
   "execution_count": null,
   "outputs": [],
   "source": [
    "# Особенно важный навык при работе с данными - это умение быстро и эффективно отбирать\n",
    "# нужные вам колонки или строки.\n",
    "# Начнем с простого, в dataframe с именем my_stat сохранено 20 строк и четыре колонки\n",
    "# (V1, V2, V3, V4):\n",
    "# В переменную с именем subset_1 сохраните только первые 10 строк и только 1 и 3 колонку.\n",
    "# В переменную с именем subset_2 сохраните все строки кроме 1 и 5 и только 2 и 4 колонку.\n",
    "# Помните, что нумерация индексов строк и колонок начинается с 0.\n",
    "# Обратите внимание, получившиеся subset_1 и subset_2 - тоже должны быть dataframe.\n",
    "# Вы можете скачать набор данных, которые нам также пригодятся в следующих заданиях,  и\n",
    "# потренироваться у себя на компьютере. Чтобы считать данные при помощи pandas, используйте\n",
    "# функцию read_csv.\n",
    "# import pandas as pd\n",
    "# my_stat = pd.read_csv('my_stat.csv')\n",
    "# Важно понимать, в чем разница между pandas loc и iloc. Как отобрать все строки кроме\n",
    "# указанных? Умение искать ответы поможет вам на начальных этапах знакомства с pandas!"
   ],
   "metadata": {
    "collapsed": false,
    "pycharm": {
     "name": "#%%\n"
    }
   }
  },
  {
   "cell_type": "code",
   "execution_count": null,
   "outputs": [],
   "source": [
    "my_stat = pd.read_csv('https://stepik.org/media/attachments/course/4852/my_stat.csv')\n",
    "my_stat"
   ],
   "metadata": {
    "collapsed": false,
    "pycharm": {
     "name": "#%%\n"
    }
   }
  },
  {
   "cell_type": "code",
   "execution_count": null,
   "outputs": [],
   "source": [
    "subset_1 = my_stat.iloc[0:10, [0,2]]\n",
    "subset_1"
   ],
   "metadata": {
    "collapsed": false,
    "pycharm": {
     "name": "#%%\n"
    }
   }
  },
  {
   "cell_type": "code",
   "execution_count": null,
   "outputs": [],
   "source": [
    "df12 = my_stat.drop([0,4], axis =0)\n",
    "df12"
   ],
   "metadata": {
    "collapsed": false,
    "pycharm": {
     "name": "#%%\n"
    }
   }
  },
  {
   "cell_type": "code",
   "execution_count": null,
   "outputs": [],
   "source": [
    "subset_2 = df12.drop(['V1', 'V3'], axis=1)\n",
    "subset_2"
   ],
   "metadata": {
    "collapsed": false,
    "pycharm": {
     "name": "#%%\n"
    }
   }
  },
  {
   "cell_type": "code",
   "execution_count": null,
   "outputs": [],
   "source": [
    "# Альтернативное решение"
   ],
   "metadata": {
    "collapsed": false,
    "pycharm": {
     "name": "#%%\n"
    }
   }
  },
  {
   "cell_type": "code",
   "execution_count": null,
   "outputs": [],
   "source": [
    "subset_1=my_stat.iloc[:10, [0, 2]]\n",
    "subset_2=my_stat.iloc[:, [1, 3]].drop([0, 4])"
   ],
   "metadata": {
    "collapsed": false,
    "pycharm": {
     "name": "#%%\n"
    }
   }
  },
  {
   "cell_type": "code",
   "execution_count": null,
   "outputs": [],
   "source": [
    "# Теперь потренируемся отбирать нужные нам наблюдения (строки), соответствующие некому условию.\n",
    "# В dataframe с именем my_stat четыре колонки V1, V2, V3, V4:\n",
    "# В переменную subset_1 сохраните только те наблюдения, у которых значения переменной V1\n",
    "# строго больше 0, и значение переменной V3  равняется 'A'.\n",
    "# В переменную  subset_2  сохраните только те наблюдения, у которых значения переменной V2  не\n",
    "# равняются 10, или значения переменной V4 больше или равно 1.\n",
    "# Как и в предыдущей задаче результат фильтрации - это тоже dataframe.\n",
    "# Фильтрацию данных можно осуществить разными способами, например так или так."
   ],
   "metadata": {
    "collapsed": false,
    "pycharm": {
     "name": "#%%\n"
    }
   }
  },
  {
   "cell_type": "code",
   "execution_count": null,
   "outputs": [],
   "source": [
    "subset_3 = my_stat.query('V1 >0 & V3 ==\"A\"')\n",
    "subset_3"
   ],
   "metadata": {
    "collapsed": false,
    "pycharm": {
     "name": "#%%\n"
    }
   }
  },
  {
   "cell_type": "code",
   "execution_count": null,
   "outputs": [],
   "source": [
    "subset_4 = my_stat.query('V2 !=10 | V4 >= 1')\n",
    "subset_4"
   ],
   "metadata": {
    "collapsed": false,
    "pycharm": {
     "name": "#%%\n"
    }
   }
  },
  {
   "cell_type": "code",
   "execution_count": null,
   "outputs": [],
   "source": [
    "# Теперь давайте преобразуем наши данные. В переменной my_stat лежат данные с которыми вам необходимо проделать следующее\n",
    "#дейтвие. В этих данных (my_stat) создайте две новые переменных:\n",
    "# V5 = V1 + V4\n",
    "# V6 = натуральный логарифм переменной V2\n",
    "# Где найти натуральный логарифм?"
   ],
   "metadata": {
    "collapsed": false,
    "pycharm": {
     "name": "#%%\n"
    }
   }
  },
  {
   "cell_type": "code",
   "execution_count": null,
   "outputs": [],
   "source": [
    "my_stat['V5'] = my_stat['V1'] + my_stat['V4']\n",
    "my_stat['V6'] = np.log(my_stat['V2'])\n",
    "my_stat"
   ],
   "metadata": {
    "collapsed": false,
    "pycharm": {
     "name": "#%%\n"
    }
   }
  },
  {
   "cell_type": "code",
   "execution_count": null,
   "outputs": [],
   "source": [
    "# Альтернативное решение"
   ],
   "metadata": {
    "collapsed": false,
    "pycharm": {
     "name": "#%%\n"
    }
   }
  },
  {
   "cell_type": "code",
   "execution_count": null,
   "outputs": [],
   "source": [
    "my_stat=my_stat.assign(V5 = my_stat.V1+my_stat.V4, V6 = np.log(my_stat.V2));"
   ],
   "metadata": {
    "collapsed": false,
    "pycharm": {
     "name": "#%%\n"
    }
   }
  },
  {
   "cell_type": "code",
   "execution_count": null,
   "outputs": [],
   "source": [
    "# Отличная работа, закрепим еще пару важных вопросов и можно двигаться дальше.\n",
    "# Переменные V1, V2  ... такие имена никуда не годятся. С такими названиями легко запутаться в собственных данных и в\n",
    "# результате ошибиться в расчетах.\n",
    "# Переименуйте колонки в данных  my_stat следующим образом:\n",
    "# V1 -> session_value\n",
    "# V2 -> group\n",
    "# V3 -> time\n",
    "# V4 -> n_users"
   ],
   "metadata": {
    "collapsed": false,
    "pycharm": {
     "name": "#%%\n"
    }
   }
  },
  {
   "cell_type": "code",
   "execution_count": null,
   "outputs": [],
   "source": [
    "my_stat.rename(columns= {'V1' : 'session_value', 'V2' : 'group', 'V3' : 'time', 'V4' : 'n_users'}, inplace= True)\n",
    "my_stat"
   ],
   "metadata": {
    "collapsed": false,
    "pycharm": {
     "name": "#%%\n"
    }
   }
  },
  {
   "cell_type": "code",
   "execution_count": null,
   "outputs": [],
   "source": [
    "# И напоследок давайте разберемся, как заменять наблюдения в данных.\n",
    "# В dataframe с именем my_stat сохранены данные с 4 колонками: session_value, group, time, n_users.\n",
    "# В переменной session_value замените все пропущенные значения на нули.\n",
    "# В переменной n_users замените все отрицательные значения на медианное значение переменной n_users\n",
    "# (без учета отрицательных значений, разумеется).\n",
    "# Как получить медиану переменной n_users без учета отрицательных значений? Если не придумали решения,\n",
    "# подсказка - ищите один из возможных ответов в задачах, которые мы уже решили.\n",
    "# Данные для тренировки."
   ],
   "metadata": {
    "collapsed": false,
    "pycharm": {
     "name": "#%%\n"
    }
   }
  },
  {
   "cell_type": "code",
   "execution_count": null,
   "outputs": [],
   "source": [
    "my_stat1 = pd.read_csv('https://stepik.org/media/attachments/course/4852/my_stat_1.csv')"
   ],
   "metadata": {
    "collapsed": false,
    "pycharm": {
     "name": "#%%\n"
    }
   }
  },
  {
   "cell_type": "code",
   "execution_count": null,
   "outputs": [],
   "source": [
    "my_stat1 = my_stat1.fillna(0)"
   ],
   "metadata": {
    "collapsed": false,
    "pycharm": {
     "name": "#%%\n"
    }
   }
  },
  {
   "cell_type": "code",
   "execution_count": null,
   "outputs": [],
   "source": [
    "my_stat1.loc[my_stat1['n_users'] < 0, 'n_users'] = my_stat1.query('n_users>=0').n_users.median()"
   ],
   "metadata": {
    "collapsed": false,
    "pycharm": {
     "name": "#%%\n"
    }
   }
  },
  {
   "cell_type": "code",
   "execution_count": null,
   "outputs": [],
   "source": [
    "my_stat1"
   ],
   "metadata": {
    "collapsed": false,
    "pycharm": {
     "name": "#%%\n"
    }
   }
  },
  {
   "cell_type": "code",
   "execution_count": null,
   "outputs": [],
   "source": [
    "# Чуть не забыли, никакой анализ данных не обходится без агрегации наблюдений. Напомню, в pandas с этим нам поможет связка\n",
    "#groupby + некоторое преобразование. Например:\n",
    "# число наблюдений в каждой группе\n",
    "# df.groupby('group_var').count()\n",
    "# Для того, что бы сгруппировать данные по нескольким переменным, используем список с нужными именами:\n",
    "# df.groupby(['group_var_1', 'group_var_2']).count()\n",
    "#cОбратите внимание, что при такой записи группирующие переменные станут индексами в итоговом dataframe, изучите справку\n",
    "# по groupby, чтобы разобраться со всеми тонкостями группировки данных. Также функция count() применится ко всем колонкам,\n",
    "#что не всегда является желанным результатом. Чтобы применить функцию только к нужной колонке в данных, можно использовать\n",
    "# связку  groupby() + agg()\n",
    "# my_stat.groupby('group').agg({'n_users': 'count'})\n",
    "# В этой задаче для данных my_stat рассчитайте среднее значение переменной session_value для каждой группы (переменная group),\n",
    "# в получившемся dataframe  переменная group не должна превратиться в индекс. Также переименуйте колонку со средним значением\n",
    "# session_value в mean_session_value.\n",
    "# Получившийся результат сохраните в dataframe с именем mean_session_value_data."
   ],
   "metadata": {
    "collapsed": false,
    "pycharm": {
     "name": "#%%\n"
    }
   }
  },
  {
   "cell_type": "code",
   "execution_count": null,
   "outputs": [],
   "source": [
    "mean_session_value_data = my_stat.groupby('group', as_index= False).agg({'session_value' : 'mean'}).rename(columns= {'session_value' : 'mean_session_value'})"
   ],
   "metadata": {
    "collapsed": false,
    "pycharm": {
     "name": "#%%\n"
    }
   }
  },
  {
   "cell_type": "code",
   "execution_count": null,
   "outputs": [],
   "source": [
    "\n",
    "mean_session_value_data"
   ],
   "metadata": {
    "collapsed": false,
    "pycharm": {
     "name": "#%%\n"
    }
   }
  },
  {
   "cell_type": "code",
   "execution_count": null,
   "outputs": [],
   "source": [
    "# Альтернативное решение"
   ],
   "metadata": {
    "collapsed": false,
    "pycharm": {
     "name": "#%%\n"
    }
   }
  },
  {
   "cell_type": "code",
   "execution_count": null,
   "outputs": [],
   "source": [
    "mean_session_value_data = my_stat.groupby(\"group\",as_index=False).session_value.agg({'mean_session_value':'mean'})"
   ],
   "metadata": {
    "collapsed": false,
    "pycharm": {
     "name": "#%%\n"
    }
   }
  },
  {
   "cell_type": "code",
   "execution_count": null,
   "outputs": [],
   "source": [
    "mean_session_value_data\n",
    "\n",
    "\n"
   ],
   "metadata": {
    "collapsed": false,
    "pycharm": {
     "name": "#%%\n"
    }
   }
  }
 ],
 "metadata": {
  "kernelspec": {
   "display_name": "Python 3 (ipykernel)",
   "language": "python",
   "name": "python3"
  },
  "language_info": {
   "codemirror_mode": {
    "name": "ipython",
    "version": 3
   },
   "file_extension": ".py",
   "mimetype": "text/x-python",
   "name": "python",
   "nbconvert_exporter": "python",
   "pygments_lexer": "ipython3",
   "version": "3.7.13"
  }
 },
 "nbformat": 4,
 "nbformat_minor": 1
}